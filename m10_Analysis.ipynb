{
 "cells": [
  {
   "cell_type": "code",
   "execution_count": 1,
   "id": "6038c6e2",
   "metadata": {},
   "outputs": [],
   "source": [
    "import pandas as pd\n",
    "import numpy as np \n",
    "import seaborn as sns\n",
    "import matplotlib.pyplot as plt\n",
    "import calendar\n",
    "%matplotlib inline"
   ]
  },
  {
   "cell_type": "code",
   "execution_count": 2,
   "id": "81b885f3",
   "metadata": {},
   "outputs": [],
   "source": [
    "main_data = pd.read_csv('Task.csv', low_memory=False)"
   ]
  },
  {
   "cell_type": "code",
   "execution_count": 3,
   "id": "edd9a74a",
   "metadata": {},
   "outputs": [
    {
     "data": {
      "text/html": [
       "<div>\n",
       "<style scoped>\n",
       "    .dataframe tbody tr th:only-of-type {\n",
       "        vertical-align: middle;\n",
       "    }\n",
       "\n",
       "    .dataframe tbody tr th {\n",
       "        vertical-align: top;\n",
       "    }\n",
       "\n",
       "    .dataframe thead th {\n",
       "        text-align: right;\n",
       "    }\n",
       "</style>\n",
       "<table border=\"1\" class=\"dataframe\">\n",
       "  <thead>\n",
       "    <tr style=\"text-align: right;\">\n",
       "      <th></th>\n",
       "      <th>event_name</th>\n",
       "      <th>user_first_touch_timestamp</th>\n",
       "      <th>event_timestamp</th>\n",
       "      <th>ga_session_id</th>\n",
       "      <th>user_pseudo_id</th>\n",
       "      <th>operating_system_version</th>\n",
       "      <th>operating_system</th>\n",
       "      <th>mobile_os_hardware_model</th>\n",
       "      <th>mobile_model_name</th>\n",
       "      <th>mobile_marketing_name</th>\n",
       "      <th>mobile_brand_name</th>\n",
       "      <th>category</th>\n",
       "    </tr>\n",
       "  </thead>\n",
       "  <tbody>\n",
       "    <tr>\n",
       "      <th>0</th>\n",
       "      <td>click_top_up</td>\n",
       "      <td>1.702993e+15</td>\n",
       "      <td>1703102700505249</td>\n",
       "      <td>1.703103e+09</td>\n",
       "      <td>b31dd8737646b020b227edcc06d01b06</td>\n",
       "      <td>Android 10</td>\n",
       "      <td>Android</td>\n",
       "      <td>MI 8 Lite</td>\n",
       "      <td>MI 8 Lite</td>\n",
       "      <td>NaN</td>\n",
       "      <td>Xiaomi</td>\n",
       "      <td>mobile</td>\n",
       "    </tr>\n",
       "    <tr>\n",
       "      <th>1</th>\n",
       "      <td>purchase</td>\n",
       "      <td>1.702768e+15</td>\n",
       "      <td>1703102798352348</td>\n",
       "      <td>1.703103e+09</td>\n",
       "      <td>fd016f3b57fdc356dd9195798534bab2</td>\n",
       "      <td>Android 13</td>\n",
       "      <td>Android</td>\n",
       "      <td>2303CRA44A</td>\n",
       "      <td>2303CRA44A</td>\n",
       "      <td>Redmi Note 12S</td>\n",
       "      <td>Xiaomi</td>\n",
       "      <td>mobile</td>\n",
       "    </tr>\n",
       "    <tr>\n",
       "      <th>2</th>\n",
       "      <td>click_top_up</td>\n",
       "      <td>1.703103e+15</td>\n",
       "      <td>1703102769880262</td>\n",
       "      <td>1.703103e+09</td>\n",
       "      <td>483B4764A744454982ABC07A03B486A4</td>\n",
       "      <td>iOS 16.7.2</td>\n",
       "      <td>iOS</td>\n",
       "      <td>iPhone10,4</td>\n",
       "      <td>iPhone 8</td>\n",
       "      <td>NaN</td>\n",
       "      <td>Apple</td>\n",
       "      <td>mobile</td>\n",
       "    </tr>\n",
       "    <tr>\n",
       "      <th>3</th>\n",
       "      <td>click_w2w</td>\n",
       "      <td>1.691532e+15</td>\n",
       "      <td>1703103091622027</td>\n",
       "      <td>1.703103e+09</td>\n",
       "      <td>0ca20f40d3c849857971db773ae6e42c</td>\n",
       "      <td>Android 11</td>\n",
       "      <td>Android</td>\n",
       "      <td>6156H</td>\n",
       "      <td>6156D</td>\n",
       "      <td>20Y 2021 Global</td>\n",
       "      <td>TCL</td>\n",
       "      <td>mobile</td>\n",
       "    </tr>\n",
       "    <tr>\n",
       "      <th>4</th>\n",
       "      <td>gen_dynamic_bar_paywith10</td>\n",
       "      <td>1.703103e+15</td>\n",
       "      <td>1703102921757045</td>\n",
       "      <td>1.703103e+09</td>\n",
       "      <td>e0bf46b8d41449b198541ef497923c71</td>\n",
       "      <td>Android 13</td>\n",
       "      <td>Android</td>\n",
       "      <td>SM-A045F</td>\n",
       "      <td>SM-A045F</td>\n",
       "      <td>Galaxy A04</td>\n",
       "      <td>Samsung</td>\n",
       "      <td>mobile</td>\n",
       "    </tr>\n",
       "    <tr>\n",
       "      <th>5</th>\n",
       "      <td>click_bar_main</td>\n",
       "      <td>NaN</td>\n",
       "      <td>1703103738801618</td>\n",
       "      <td>NaN</td>\n",
       "      <td>07c00c9456562b67cd2e2ab7790e0dda</td>\n",
       "      <td>Android 9</td>\n",
       "      <td>Android</td>\n",
       "      <td>AMN-LX9</td>\n",
       "      <td>AMN-LX9</td>\n",
       "      <td>Y5 2019</td>\n",
       "      <td>Huawei</td>\n",
       "      <td>mobile</td>\n",
       "    </tr>\n",
       "    <tr>\n",
       "      <th>6</th>\n",
       "      <td>click_my_qr</td>\n",
       "      <td>1.700393e+15</td>\n",
       "      <td>1703102616054253</td>\n",
       "      <td>1.703101e+09</td>\n",
       "      <td>4c431f3eb95ad871e28d58641c9a0631</td>\n",
       "      <td>Android 10</td>\n",
       "      <td>Android</td>\n",
       "      <td>M2006C3MNG</td>\n",
       "      <td>M2006C3MNG</td>\n",
       "      <td>Redmi 9C</td>\n",
       "      <td>Xiaomi</td>\n",
       "      <td>mobile</td>\n",
       "    </tr>\n",
       "    <tr>\n",
       "      <th>7</th>\n",
       "      <td>gen_letstry_bravo_bar</td>\n",
       "      <td>1.703103e+15</td>\n",
       "      <td>1703103708757161</td>\n",
       "      <td>1.703103e+09</td>\n",
       "      <td>a1d7ba6c27775b7a6dcafc1158400c6a</td>\n",
       "      <td>Android 10</td>\n",
       "      <td>Android</td>\n",
       "      <td>M2006C3MG</td>\n",
       "      <td>M2006C3MG</td>\n",
       "      <td>Redmi 9C</td>\n",
       "      <td>Xiaomi</td>\n",
       "      <td>mobile</td>\n",
       "    </tr>\n",
       "    <tr>\n",
       "      <th>8</th>\n",
       "      <td>gen_cashback_banner</td>\n",
       "      <td>1.701183e+15</td>\n",
       "      <td>1703102771670646</td>\n",
       "      <td>1.703098e+09</td>\n",
       "      <td>5464fbad1f1b6f7fc8335139af6902d9</td>\n",
       "      <td>Android 8.0.0</td>\n",
       "      <td>Android</td>\n",
       "      <td>SM-A520F</td>\n",
       "      <td>SM-A520F</td>\n",
       "      <td>Galaxy A5 (2017)</td>\n",
       "      <td>Samsung</td>\n",
       "      <td>mobile</td>\n",
       "    </tr>\n",
       "    <tr>\n",
       "      <th>9</th>\n",
       "      <td>purchase</td>\n",
       "      <td>1.697732e+15</td>\n",
       "      <td>1703103244861254</td>\n",
       "      <td>1.703103e+09</td>\n",
       "      <td>a57e23b353c804aac4718927686f0233</td>\n",
       "      <td>Android 10</td>\n",
       "      <td>Android</td>\n",
       "      <td>SM-J600F</td>\n",
       "      <td>SM-J600F</td>\n",
       "      <td>Galaxy J6</td>\n",
       "      <td>Samsung</td>\n",
       "      <td>mobile</td>\n",
       "    </tr>\n",
       "  </tbody>\n",
       "</table>\n",
       "</div>"
      ],
      "text/plain": [
       "                  event_name  user_first_touch_timestamp   event_timestamp  \\\n",
       "0               click_top_up                1.702993e+15  1703102700505249   \n",
       "1                   purchase                1.702768e+15  1703102798352348   \n",
       "2               click_top_up                1.703103e+15  1703102769880262   \n",
       "3                  click_w2w                1.691532e+15  1703103091622027   \n",
       "4  gen_dynamic_bar_paywith10                1.703103e+15  1703102921757045   \n",
       "5             click_bar_main                         NaN  1703103738801618   \n",
       "6                click_my_qr                1.700393e+15  1703102616054253   \n",
       "7      gen_letstry_bravo_bar                1.703103e+15  1703103708757161   \n",
       "8        gen_cashback_banner                1.701183e+15  1703102771670646   \n",
       "9                   purchase                1.697732e+15  1703103244861254   \n",
       "\n",
       "   ga_session_id                    user_pseudo_id operating_system_version  \\\n",
       "0   1.703103e+09  b31dd8737646b020b227edcc06d01b06               Android 10   \n",
       "1   1.703103e+09  fd016f3b57fdc356dd9195798534bab2               Android 13   \n",
       "2   1.703103e+09  483B4764A744454982ABC07A03B486A4               iOS 16.7.2   \n",
       "3   1.703103e+09  0ca20f40d3c849857971db773ae6e42c               Android 11   \n",
       "4   1.703103e+09  e0bf46b8d41449b198541ef497923c71               Android 13   \n",
       "5            NaN  07c00c9456562b67cd2e2ab7790e0dda                Android 9   \n",
       "6   1.703101e+09  4c431f3eb95ad871e28d58641c9a0631               Android 10   \n",
       "7   1.703103e+09  a1d7ba6c27775b7a6dcafc1158400c6a               Android 10   \n",
       "8   1.703098e+09  5464fbad1f1b6f7fc8335139af6902d9            Android 8.0.0   \n",
       "9   1.703103e+09  a57e23b353c804aac4718927686f0233               Android 10   \n",
       "\n",
       "  operating_system mobile_os_hardware_model mobile_model_name  \\\n",
       "0          Android                MI 8 Lite         MI 8 Lite   \n",
       "1          Android               2303CRA44A        2303CRA44A   \n",
       "2              iOS               iPhone10,4          iPhone 8   \n",
       "3          Android                    6156H             6156D   \n",
       "4          Android                 SM-A045F          SM-A045F   \n",
       "5          Android                  AMN-LX9           AMN-LX9   \n",
       "6          Android               M2006C3MNG        M2006C3MNG   \n",
       "7          Android                M2006C3MG         M2006C3MG   \n",
       "8          Android                 SM-A520F          SM-A520F   \n",
       "9          Android                 SM-J600F          SM-J600F   \n",
       "\n",
       "  mobile_marketing_name mobile_brand_name category  \n",
       "0                   NaN            Xiaomi   mobile  \n",
       "1        Redmi Note 12S            Xiaomi   mobile  \n",
       "2                   NaN             Apple   mobile  \n",
       "3       20Y 2021 Global               TCL   mobile  \n",
       "4            Galaxy A04           Samsung   mobile  \n",
       "5               Y5 2019            Huawei   mobile  \n",
       "6              Redmi 9C            Xiaomi   mobile  \n",
       "7              Redmi 9C            Xiaomi   mobile  \n",
       "8      Galaxy A5 (2017)           Samsung   mobile  \n",
       "9             Galaxy J6           Samsung   mobile  "
      ]
     },
     "execution_count": 3,
     "metadata": {},
     "output_type": "execute_result"
    }
   ],
   "source": [
    "main_data.head(10)"
   ]
  },
  {
   "cell_type": "markdown",
   "id": "4b566f0a",
   "metadata": {},
   "source": [
    "## First of all I cleaned null values \n",
    "In 'user_first_touch_timestamp' column we had null values and it would effect our analyze for grouping on dates.\n",
    "And also for mobile columns we had lots of null values and I replaced this null values with 'Unknown' label. \n",
    "Maybe in future analysis we would need it. \n"
   ]
  },
  {
   "cell_type": "code",
   "execution_count": 4,
   "id": "2969a590",
   "metadata": {},
   "outputs": [
    {
     "data": {
      "text/plain": [
       "event_name                          0\n",
       "user_first_touch_timestamp         38\n",
       "event_timestamp                     0\n",
       "ga_session_id                     228\n",
       "user_pseudo_id                      0\n",
       "operating_system_version            0\n",
       "operating_system                    0\n",
       "mobile_os_hardware_model            0\n",
       "mobile_model_name               31594\n",
       "mobile_marketing_name         1887445\n",
       "mobile_brand_name               31594\n",
       "category                            0\n",
       "dtype: int64"
      ]
     },
     "execution_count": 4,
     "metadata": {},
     "output_type": "execute_result"
    }
   ],
   "source": [
    "main_data.isnull().sum()"
   ]
  },
  {
   "cell_type": "code",
   "execution_count": 5,
   "id": "b37e8299",
   "metadata": {},
   "outputs": [],
   "source": [
    "nan_rows = main_data[main_data['user_first_touch_timestamp'].isna()]\n"
   ]
  },
  {
   "cell_type": "code",
   "execution_count": 6,
   "id": "c0a9aa98",
   "metadata": {},
   "outputs": [
    {
     "data": {
      "text/html": [
       "<div>\n",
       "<style scoped>\n",
       "    .dataframe tbody tr th:only-of-type {\n",
       "        vertical-align: middle;\n",
       "    }\n",
       "\n",
       "    .dataframe tbody tr th {\n",
       "        vertical-align: top;\n",
       "    }\n",
       "\n",
       "    .dataframe thead th {\n",
       "        text-align: right;\n",
       "    }\n",
       "</style>\n",
       "<table border=\"1\" class=\"dataframe\">\n",
       "  <thead>\n",
       "    <tr style=\"text-align: right;\">\n",
       "      <th></th>\n",
       "      <th>total_events</th>\n",
       "    </tr>\n",
       "    <tr>\n",
       "      <th>user_pseudo_id</th>\n",
       "      <th></th>\n",
       "    </tr>\n",
       "  </thead>\n",
       "  <tbody>\n",
       "    <tr>\n",
       "      <th>07c00c9456562b67cd2e2ab7790e0dda</th>\n",
       "      <td>29</td>\n",
       "    </tr>\n",
       "    <tr>\n",
       "      <th>b25e17b0f677f0ec2d6273eaaae54b65</th>\n",
       "      <td>9</td>\n",
       "    </tr>\n",
       "  </tbody>\n",
       "</table>\n",
       "</div>"
      ],
      "text/plain": [
       "                                  total_events\n",
       "user_pseudo_id                                \n",
       "07c00c9456562b67cd2e2ab7790e0dda            29\n",
       "b25e17b0f677f0ec2d6273eaaae54b65             9"
      ]
     },
     "execution_count": 6,
     "metadata": {},
     "output_type": "execute_result"
    }
   ],
   "source": [
    "nan_rows.groupby('user_pseudo_id').agg(\n",
    "total_events = ('event_name','count')\n",
    ") #We have just 2 users who have null values. We can drop them."
   ]
  },
  {
   "cell_type": "code",
   "execution_count": 7,
   "id": "f9a0055a",
   "metadata": {},
   "outputs": [
    {
     "data": {
      "text/plain": [
       "(5501971, 12)"
      ]
     },
     "execution_count": 7,
     "metadata": {},
     "output_type": "execute_result"
    }
   ],
   "source": [
    "main_data.shape"
   ]
  },
  {
   "cell_type": "code",
   "execution_count": 8,
   "id": "194f61ab",
   "metadata": {},
   "outputs": [],
   "source": [
    "main_data = main_data.dropna(subset=['user_first_touch_timestamp'])"
   ]
  },
  {
   "cell_type": "code",
   "execution_count": 9,
   "id": "9ef58da4",
   "metadata": {},
   "outputs": [
    {
     "data": {
      "text/plain": [
       "event_name                          0\n",
       "user_first_touch_timestamp          0\n",
       "event_timestamp                     0\n",
       "ga_session_id                     190\n",
       "user_pseudo_id                      0\n",
       "operating_system_version            0\n",
       "operating_system                    0\n",
       "mobile_os_hardware_model            0\n",
       "mobile_model_name               31594\n",
       "mobile_marketing_name         1887445\n",
       "mobile_brand_name               31594\n",
       "category                            0\n",
       "dtype: int64"
      ]
     },
     "execution_count": 9,
     "metadata": {},
     "output_type": "execute_result"
    }
   ],
   "source": [
    "main_data.isnull().sum()"
   ]
  },
  {
   "cell_type": "code",
   "execution_count": 10,
   "id": "99988d7c",
   "metadata": {},
   "outputs": [],
   "source": [
    "# We can fill other null values with Unknown name to see more clean data. \n",
    "main_data.fillna({'mobile_model_name':'Unknown', 'mobile_marketing_name':'Unknown','mobile_brand_name':'Unknown'}, inplace=True)"
   ]
  },
  {
   "cell_type": "markdown",
   "id": "07d9288c",
   "metadata": {},
   "source": [
    "## I have to convert  'user_first_touch_timestamp' column's and 'event_timestamp' column's values to real dates\n",
    "\n",
    "As we see dates coded with google analytics and I want to see it on real dates.\n",
    "I will create columns as dates for full dates and hours of day and year_month.\n"
   ]
  },
  {
   "cell_type": "code",
   "execution_count": 11,
   "id": "56818ed6",
   "metadata": {},
   "outputs": [],
   "source": [
    "main_data['event_timestamp'] = pd.to_datetime(main_data['event_timestamp'], unit='us')\n",
    "main_data['user_first_touch_timestamp'] = pd.to_datetime(main_data['user_first_touch_timestamp'], unit='us')"
   ]
  },
  {
   "cell_type": "code",
   "execution_count": 12,
   "id": "51e2dc8a",
   "metadata": {},
   "outputs": [],
   "source": [
    "main_data['date'] = main_data['event_timestamp'].dt.strftime('%Y-%m-%d')\n",
    "main_data['year_month'] = main_data['event_timestamp'].dt.strftime('%Y-%m')\n",
    "main_data['weekday'] = main_data['event_timestamp'].dt.day_name()\n",
    "main_data['weekday_num'] = main_data['event_timestamp'].dt.weekday\n",
    "main_data['time_of_day'] = main_data['event_timestamp'].dt.strftime('%H')"
   ]
  },
  {
   "cell_type": "code",
   "execution_count": 13,
   "id": "da6ff333",
   "metadata": {},
   "outputs": [],
   "source": [
    "# I want to see Major OS versions to general analyze.\n",
    "main_data['os_major_version'] = main_data['operating_system_version'].str.extract(r'(\\D+\\s*\\d+)')"
   ]
  },
  {
   "cell_type": "code",
   "execution_count": 14,
   "id": "d79e3255",
   "metadata": {},
   "outputs": [
    {
     "data": {
      "text/html": [
       "<div>\n",
       "<style scoped>\n",
       "    .dataframe tbody tr th:only-of-type {\n",
       "        vertical-align: middle;\n",
       "    }\n",
       "\n",
       "    .dataframe tbody tr th {\n",
       "        vertical-align: top;\n",
       "    }\n",
       "\n",
       "    .dataframe thead th {\n",
       "        text-align: right;\n",
       "    }\n",
       "</style>\n",
       "<table border=\"1\" class=\"dataframe\">\n",
       "  <thead>\n",
       "    <tr style=\"text-align: right;\">\n",
       "      <th></th>\n",
       "      <th>event_name</th>\n",
       "      <th>user_first_touch_timestamp</th>\n",
       "      <th>event_timestamp</th>\n",
       "      <th>ga_session_id</th>\n",
       "      <th>user_pseudo_id</th>\n",
       "      <th>operating_system_version</th>\n",
       "      <th>operating_system</th>\n",
       "      <th>mobile_os_hardware_model</th>\n",
       "      <th>mobile_model_name</th>\n",
       "      <th>mobile_marketing_name</th>\n",
       "      <th>mobile_brand_name</th>\n",
       "      <th>category</th>\n",
       "      <th>date</th>\n",
       "      <th>year_month</th>\n",
       "      <th>weekday</th>\n",
       "      <th>weekday_num</th>\n",
       "      <th>time_of_day</th>\n",
       "      <th>os_major_version</th>\n",
       "    </tr>\n",
       "  </thead>\n",
       "  <tbody>\n",
       "    <tr>\n",
       "      <th>0</th>\n",
       "      <td>click_top_up</td>\n",
       "      <td>2023-12-19 13:29:53.763000064</td>\n",
       "      <td>2023-12-20 20:05:00.505249</td>\n",
       "      <td>1.703103e+09</td>\n",
       "      <td>b31dd8737646b020b227edcc06d01b06</td>\n",
       "      <td>Android 10</td>\n",
       "      <td>Android</td>\n",
       "      <td>MI 8 Lite</td>\n",
       "      <td>MI 8 Lite</td>\n",
       "      <td>Unknown</td>\n",
       "      <td>Xiaomi</td>\n",
       "      <td>mobile</td>\n",
       "      <td>2023-12-20</td>\n",
       "      <td>2023-12</td>\n",
       "      <td>Wednesday</td>\n",
       "      <td>2</td>\n",
       "      <td>20</td>\n",
       "      <td>Android 10</td>\n",
       "    </tr>\n",
       "    <tr>\n",
       "      <th>1</th>\n",
       "      <td>purchase</td>\n",
       "      <td>2023-12-16 23:02:16.432000000</td>\n",
       "      <td>2023-12-20 20:06:38.352348</td>\n",
       "      <td>1.703103e+09</td>\n",
       "      <td>fd016f3b57fdc356dd9195798534bab2</td>\n",
       "      <td>Android 13</td>\n",
       "      <td>Android</td>\n",
       "      <td>2303CRA44A</td>\n",
       "      <td>2303CRA44A</td>\n",
       "      <td>Redmi Note 12S</td>\n",
       "      <td>Xiaomi</td>\n",
       "      <td>mobile</td>\n",
       "      <td>2023-12-20</td>\n",
       "      <td>2023-12</td>\n",
       "      <td>Wednesday</td>\n",
       "      <td>2</td>\n",
       "      <td>20</td>\n",
       "      <td>Android 13</td>\n",
       "    </tr>\n",
       "    <tr>\n",
       "      <th>2</th>\n",
       "      <td>click_top_up</td>\n",
       "      <td>2023-12-20 20:04:19.014000128</td>\n",
       "      <td>2023-12-20 20:06:09.880262</td>\n",
       "      <td>1.703103e+09</td>\n",
       "      <td>483B4764A744454982ABC07A03B486A4</td>\n",
       "      <td>iOS 16.7.2</td>\n",
       "      <td>iOS</td>\n",
       "      <td>iPhone10,4</td>\n",
       "      <td>iPhone 8</td>\n",
       "      <td>Unknown</td>\n",
       "      <td>Apple</td>\n",
       "      <td>mobile</td>\n",
       "      <td>2023-12-20</td>\n",
       "      <td>2023-12</td>\n",
       "      <td>Wednesday</td>\n",
       "      <td>2</td>\n",
       "      <td>20</td>\n",
       "      <td>iOS 16</td>\n",
       "    </tr>\n",
       "    <tr>\n",
       "      <th>3</th>\n",
       "      <td>click_w2w</td>\n",
       "      <td>2023-08-08 21:53:17.083000064</td>\n",
       "      <td>2023-12-20 20:11:31.622027</td>\n",
       "      <td>1.703103e+09</td>\n",
       "      <td>0ca20f40d3c849857971db773ae6e42c</td>\n",
       "      <td>Android 11</td>\n",
       "      <td>Android</td>\n",
       "      <td>6156H</td>\n",
       "      <td>6156D</td>\n",
       "      <td>20Y 2021 Global</td>\n",
       "      <td>TCL</td>\n",
       "      <td>mobile</td>\n",
       "      <td>2023-12-20</td>\n",
       "      <td>2023-12</td>\n",
       "      <td>Wednesday</td>\n",
       "      <td>2</td>\n",
       "      <td>20</td>\n",
       "      <td>Android 11</td>\n",
       "    </tr>\n",
       "    <tr>\n",
       "      <th>4</th>\n",
       "      <td>gen_dynamic_bar_paywith10</td>\n",
       "      <td>2023-12-20 20:06:45.215000064</td>\n",
       "      <td>2023-12-20 20:08:41.757045</td>\n",
       "      <td>1.703103e+09</td>\n",
       "      <td>e0bf46b8d41449b198541ef497923c71</td>\n",
       "      <td>Android 13</td>\n",
       "      <td>Android</td>\n",
       "      <td>SM-A045F</td>\n",
       "      <td>SM-A045F</td>\n",
       "      <td>Galaxy A04</td>\n",
       "      <td>Samsung</td>\n",
       "      <td>mobile</td>\n",
       "      <td>2023-12-20</td>\n",
       "      <td>2023-12</td>\n",
       "      <td>Wednesday</td>\n",
       "      <td>2</td>\n",
       "      <td>20</td>\n",
       "      <td>Android 13</td>\n",
       "    </tr>\n",
       "    <tr>\n",
       "      <th>6</th>\n",
       "      <td>click_my_qr</td>\n",
       "      <td>2023-11-19 11:21:49.849999872</td>\n",
       "      <td>2023-12-20 20:03:36.054253</td>\n",
       "      <td>1.703101e+09</td>\n",
       "      <td>4c431f3eb95ad871e28d58641c9a0631</td>\n",
       "      <td>Android 10</td>\n",
       "      <td>Android</td>\n",
       "      <td>M2006C3MNG</td>\n",
       "      <td>M2006C3MNG</td>\n",
       "      <td>Redmi 9C</td>\n",
       "      <td>Xiaomi</td>\n",
       "      <td>mobile</td>\n",
       "      <td>2023-12-20</td>\n",
       "      <td>2023-12</td>\n",
       "      <td>Wednesday</td>\n",
       "      <td>2</td>\n",
       "      <td>20</td>\n",
       "      <td>Android 10</td>\n",
       "    </tr>\n",
       "    <tr>\n",
       "      <th>7</th>\n",
       "      <td>gen_letstry_bravo_bar</td>\n",
       "      <td>2023-12-20 20:14:31.332000000</td>\n",
       "      <td>2023-12-20 20:21:48.757161</td>\n",
       "      <td>1.703103e+09</td>\n",
       "      <td>a1d7ba6c27775b7a6dcafc1158400c6a</td>\n",
       "      <td>Android 10</td>\n",
       "      <td>Android</td>\n",
       "      <td>M2006C3MG</td>\n",
       "      <td>M2006C3MG</td>\n",
       "      <td>Redmi 9C</td>\n",
       "      <td>Xiaomi</td>\n",
       "      <td>mobile</td>\n",
       "      <td>2023-12-20</td>\n",
       "      <td>2023-12</td>\n",
       "      <td>Wednesday</td>\n",
       "      <td>2</td>\n",
       "      <td>20</td>\n",
       "      <td>Android 10</td>\n",
       "    </tr>\n",
       "    <tr>\n",
       "      <th>8</th>\n",
       "      <td>gen_cashback_banner</td>\n",
       "      <td>2023-11-28 14:50:55.731000064</td>\n",
       "      <td>2023-12-20 20:06:11.670646</td>\n",
       "      <td>1.703098e+09</td>\n",
       "      <td>5464fbad1f1b6f7fc8335139af6902d9</td>\n",
       "      <td>Android 8.0.0</td>\n",
       "      <td>Android</td>\n",
       "      <td>SM-A520F</td>\n",
       "      <td>SM-A520F</td>\n",
       "      <td>Galaxy A5 (2017)</td>\n",
       "      <td>Samsung</td>\n",
       "      <td>mobile</td>\n",
       "      <td>2023-12-20</td>\n",
       "      <td>2023-12</td>\n",
       "      <td>Wednesday</td>\n",
       "      <td>2</td>\n",
       "      <td>20</td>\n",
       "      <td>Android 8</td>\n",
       "    </tr>\n",
       "    <tr>\n",
       "      <th>9</th>\n",
       "      <td>purchase</td>\n",
       "      <td>2023-10-19 16:19:39.944999936</td>\n",
       "      <td>2023-12-20 20:14:04.861254</td>\n",
       "      <td>1.703103e+09</td>\n",
       "      <td>a57e23b353c804aac4718927686f0233</td>\n",
       "      <td>Android 10</td>\n",
       "      <td>Android</td>\n",
       "      <td>SM-J600F</td>\n",
       "      <td>SM-J600F</td>\n",
       "      <td>Galaxy J6</td>\n",
       "      <td>Samsung</td>\n",
       "      <td>mobile</td>\n",
       "      <td>2023-12-20</td>\n",
       "      <td>2023-12</td>\n",
       "      <td>Wednesday</td>\n",
       "      <td>2</td>\n",
       "      <td>20</td>\n",
       "      <td>Android 10</td>\n",
       "    </tr>\n",
       "    <tr>\n",
       "      <th>10</th>\n",
       "      <td>click_w2w</td>\n",
       "      <td>2023-10-19 16:19:39.944999936</td>\n",
       "      <td>2023-12-20 20:13:03.080263</td>\n",
       "      <td>1.703103e+09</td>\n",
       "      <td>a57e23b353c804aac4718927686f0233</td>\n",
       "      <td>Android 10</td>\n",
       "      <td>Android</td>\n",
       "      <td>SM-J600F</td>\n",
       "      <td>SM-J600F</td>\n",
       "      <td>Galaxy J6</td>\n",
       "      <td>Samsung</td>\n",
       "      <td>mobile</td>\n",
       "      <td>2023-12-20</td>\n",
       "      <td>2023-12</td>\n",
       "      <td>Wednesday</td>\n",
       "      <td>2</td>\n",
       "      <td>20</td>\n",
       "      <td>Android 10</td>\n",
       "    </tr>\n",
       "  </tbody>\n",
       "</table>\n",
       "</div>"
      ],
      "text/plain": [
       "                   event_name    user_first_touch_timestamp  \\\n",
       "0                click_top_up 2023-12-19 13:29:53.763000064   \n",
       "1                    purchase 2023-12-16 23:02:16.432000000   \n",
       "2                click_top_up 2023-12-20 20:04:19.014000128   \n",
       "3                   click_w2w 2023-08-08 21:53:17.083000064   \n",
       "4   gen_dynamic_bar_paywith10 2023-12-20 20:06:45.215000064   \n",
       "6                 click_my_qr 2023-11-19 11:21:49.849999872   \n",
       "7       gen_letstry_bravo_bar 2023-12-20 20:14:31.332000000   \n",
       "8         gen_cashback_banner 2023-11-28 14:50:55.731000064   \n",
       "9                    purchase 2023-10-19 16:19:39.944999936   \n",
       "10                  click_w2w 2023-10-19 16:19:39.944999936   \n",
       "\n",
       "              event_timestamp  ga_session_id  \\\n",
       "0  2023-12-20 20:05:00.505249   1.703103e+09   \n",
       "1  2023-12-20 20:06:38.352348   1.703103e+09   \n",
       "2  2023-12-20 20:06:09.880262   1.703103e+09   \n",
       "3  2023-12-20 20:11:31.622027   1.703103e+09   \n",
       "4  2023-12-20 20:08:41.757045   1.703103e+09   \n",
       "6  2023-12-20 20:03:36.054253   1.703101e+09   \n",
       "7  2023-12-20 20:21:48.757161   1.703103e+09   \n",
       "8  2023-12-20 20:06:11.670646   1.703098e+09   \n",
       "9  2023-12-20 20:14:04.861254   1.703103e+09   \n",
       "10 2023-12-20 20:13:03.080263   1.703103e+09   \n",
       "\n",
       "                      user_pseudo_id operating_system_version  \\\n",
       "0   b31dd8737646b020b227edcc06d01b06               Android 10   \n",
       "1   fd016f3b57fdc356dd9195798534bab2               Android 13   \n",
       "2   483B4764A744454982ABC07A03B486A4               iOS 16.7.2   \n",
       "3   0ca20f40d3c849857971db773ae6e42c               Android 11   \n",
       "4   e0bf46b8d41449b198541ef497923c71               Android 13   \n",
       "6   4c431f3eb95ad871e28d58641c9a0631               Android 10   \n",
       "7   a1d7ba6c27775b7a6dcafc1158400c6a               Android 10   \n",
       "8   5464fbad1f1b6f7fc8335139af6902d9            Android 8.0.0   \n",
       "9   a57e23b353c804aac4718927686f0233               Android 10   \n",
       "10  a57e23b353c804aac4718927686f0233               Android 10   \n",
       "\n",
       "   operating_system mobile_os_hardware_model mobile_model_name  \\\n",
       "0           Android                MI 8 Lite         MI 8 Lite   \n",
       "1           Android               2303CRA44A        2303CRA44A   \n",
       "2               iOS               iPhone10,4          iPhone 8   \n",
       "3           Android                    6156H             6156D   \n",
       "4           Android                 SM-A045F          SM-A045F   \n",
       "6           Android               M2006C3MNG        M2006C3MNG   \n",
       "7           Android                M2006C3MG         M2006C3MG   \n",
       "8           Android                 SM-A520F          SM-A520F   \n",
       "9           Android                 SM-J600F          SM-J600F   \n",
       "10          Android                 SM-J600F          SM-J600F   \n",
       "\n",
       "   mobile_marketing_name mobile_brand_name category        date year_month  \\\n",
       "0                Unknown            Xiaomi   mobile  2023-12-20    2023-12   \n",
       "1         Redmi Note 12S            Xiaomi   mobile  2023-12-20    2023-12   \n",
       "2                Unknown             Apple   mobile  2023-12-20    2023-12   \n",
       "3        20Y 2021 Global               TCL   mobile  2023-12-20    2023-12   \n",
       "4             Galaxy A04           Samsung   mobile  2023-12-20    2023-12   \n",
       "6               Redmi 9C            Xiaomi   mobile  2023-12-20    2023-12   \n",
       "7               Redmi 9C            Xiaomi   mobile  2023-12-20    2023-12   \n",
       "8       Galaxy A5 (2017)           Samsung   mobile  2023-12-20    2023-12   \n",
       "9              Galaxy J6           Samsung   mobile  2023-12-20    2023-12   \n",
       "10             Galaxy J6           Samsung   mobile  2023-12-20    2023-12   \n",
       "\n",
       "      weekday  weekday_num time_of_day os_major_version  \n",
       "0   Wednesday            2          20       Android 10  \n",
       "1   Wednesday            2          20       Android 13  \n",
       "2   Wednesday            2          20           iOS 16  \n",
       "3   Wednesday            2          20       Android 11  \n",
       "4   Wednesday            2          20       Android 13  \n",
       "6   Wednesday            2          20       Android 10  \n",
       "7   Wednesday            2          20       Android 10  \n",
       "8   Wednesday            2          20        Android 8  \n",
       "9   Wednesday            2          20       Android 10  \n",
       "10  Wednesday            2          20       Android 10  "
      ]
     },
     "execution_count": 14,
     "metadata": {},
     "output_type": "execute_result"
    }
   ],
   "source": [
    "main_data.head(10)"
   ]
  },
  {
   "cell_type": "code",
   "execution_count": null,
   "id": "5e8af287",
   "metadata": {},
   "outputs": [],
   "source": [
    "main_data['event_timestamp']"
   ]
  },
  {
   "cell_type": "markdown",
   "id": "edc393b0",
   "metadata": {},
   "source": [
    "## Let's get into some descriptive analysis\n",
    "What is the most used feature in the application?"
   ]
  },
  {
   "cell_type": "code",
   "execution_count": 25,
   "id": "9076e141",
   "metadata": {},
   "outputs": [
    {
     "data": {
      "text/plain": [
       "event_name\n",
       "click_transfer        735705\n",
       "click_bar_history     641534\n",
       "click_top_up          506010\n",
       "click_bar_payments    505856\n",
       "purchase              504572\n",
       "Name: user_pseudo_id, dtype: int64"
      ]
     },
     "execution_count": 25,
     "metadata": {},
     "output_type": "execute_result"
    }
   ],
   "source": [
    "# First way. \n",
    "main_data.groupby('event_name')['user_pseudo_id'].count().sort_values(ascending=False).head(5)"
   ]
  },
  {
   "cell_type": "markdown",
   "id": "504d4236",
   "metadata": {},
   "source": [
    "### Second Way\n",
    "#### We just count all events on users but there can be spam due to one user can use multiple times on one session that's why we have to count it on per user, per session and per event   "
   ]
  },
  {
   "cell_type": "code",
   "execution_count": 16,
   "id": "e7c56b31",
   "metadata": {},
   "outputs": [],
   "source": [
    "Top_5 = (\n",
    "    main_data\n",
    "    .groupby(['user_pseudo_id', 'ga_session_id', 'event_name'])\n",
    "    .agg(at_least_one_event=('event_name', 'nunique'))\n",
    "    .reset_index()\n",
    "    .groupby('event_name')['at_least_one_event'].sum()\n",
    "    .sort_values(ascending=False)\n",
    "    .head(5)\n",
    ")"
   ]
  },
  {
   "cell_type": "code",
   "execution_count": 17,
   "id": "fb3d97e9",
   "metadata": {},
   "outputs": [
    {
     "data": {
      "text/plain": [
       "event_name\n",
       "click_transfer        289174\n",
       "click_bar_payments    253023\n",
       "purchase              248006\n",
       "click_top_up          231905\n",
       "click_w2c             219710\n",
       "Name: at_least_one_event, dtype: int64"
      ]
     },
     "execution_count": 17,
     "metadata": {},
     "output_type": "execute_result"
    }
   ],
   "source": [
    "Top_5"
   ]
  },
  {
   "cell_type": "code",
   "execution_count": 18,
   "id": "6c259ae4",
   "metadata": {},
   "outputs": [
    {
     "data": {
      "image/png": "[encoded data removed]",
      "text/plain": [
       "<Figure size 576x576 with 1 Axes>"
      ]
     },
     "metadata": {},
     "output_type": "display_data"
    }
   ],
   "source": [
    "plt.figure(figsize=(8, 8))\n",
    "plt.pie(Top_5, labels=Top_5.index, autopct='%1.1f%%', startangle=140)\n",
    "plt.title('Top 5 Most Used Future')\n",
    "plt.show()"
   ]
  },
  {
   "cell_type": "markdown",
   "id": "b8b00a8b",
   "metadata": {},
   "source": [
    "## Which OPS System needs more care \n",
    "Assumption: If User tried to antifraud we might need to review the security system"
   ]
  },
  {
   "cell_type": "code",
   "execution_count": 34,
   "id": "af42e40f",
   "metadata": {},
   "outputs": [
    {
     "name": "stdout",
     "output_type": "stream",
     "text": [
      "Android 10    0.258707\n",
      "Android 11    0.311620\n",
      "Android 12    0.306889\n",
      "Android 13    0.288721\n",
      "Android 14    0.178261\n",
      "Android 5     0.214286\n",
      "Android 6     0.333333\n",
      "Android 7     0.308540\n",
      "Android 8     0.302128\n",
      "Android 9     0.228818\n",
      "iOS 13             NaN\n",
      "iOS 14        0.122807\n",
      "iOS 15        0.230159\n",
      "iOS 16        0.252634\n",
      "iOS 17        0.231108\n",
      "dtype: float64\n"
     ]
    }
   ],
   "source": [
    "main_data = main_data[main_data['operating_system_version'] != 'Android 16.0.1'] #Android 16 is fake OS\n",
    "antifraud_data = main_data[main_data['event_name'] == 'gen_letstry_antifraud']\n",
    "total_users_per_version = main_data.groupby('os_major_version')['user_pseudo_id'].nunique()\n",
    "proportions = antifraud_data['os_major_version'].value_counts()/ total_users_per_version \n",
    "print(proportions)"
   ]
  },
  {
   "cell_type": "code",
   "execution_count": 35,
   "id": "c28a6234",
   "metadata": {},
   "outputs": [],
   "source": [
    "antifraud_data = main_data[main_data['event_name'] == 'gen_letstry_antifraud']"
   ]
  },
  {
   "cell_type": "code",
   "execution_count": 36,
   "id": "b42563c1",
   "metadata": {},
   "outputs": [],
   "source": [
    "total_users_per_version = main_data.groupby('os_major_version')['user_pseudo_id'].nunique()\n",
    "proportions = antifraud_data['os_major_version'].value_counts()/ total_users_per_version "
   ]
  },
  {
   "cell_type": "code",
   "execution_count": 37,
   "id": "e5d88ebc",
   "metadata": {},
   "outputs": [],
   "source": [
    "top_operating_systems = proportions.sort_values(ascending=False).head(5)"
   ]
  },
  {
   "cell_type": "code",
   "execution_count": 38,
   "id": "ea7f30ee",
   "metadata": {},
   "outputs": [
    {
     "data": {
      "text/plain": [
       "Android 6     0.333333\n",
       "Android 11    0.311620\n",
       "Android 7     0.308540\n",
       "Android 12    0.306889\n",
       "Android 8     0.302128\n",
       "dtype: float64"
      ]
     },
     "execution_count": 38,
     "metadata": {},
     "output_type": "execute_result"
    }
   ],
   "source": [
    "top_operating_systems\n"
   ]
  },
  {
   "cell_type": "code",
   "execution_count": 39,
   "id": "31249768",
   "metadata": {},
   "outputs": [
    {
     "data": {
      "image/png": "[encoded data removed]",
      "text/plain": [
       "<Figure size 720x432 with 1 Axes>"
      ]
     },
     "metadata": {},
     "output_type": "display_data"
    }
   ],
   "source": [
    "plt.figure(figsize=(10, 6))\n",
    "sns.barplot(x=top_operating_systems.values, y=top_operating_systems.index, palette='viridis')\n",
    "plt.title('Top 5 Operating Systems for Antifraud (Proportions)')\n",
    "plt.xlabel('Proportion of Users with Antifraud')\n",
    "plt.ylabel('Operating System Version')\n",
    "plt.show()"
   ]
  },
  {
   "cell_type": "markdown",
   "id": "cb5f787d",
   "metadata": {},
   "source": [
    "## Which phones are experiencing problems with our app\n",
    "\n",
    "Assumption: If user sends feedback its probably negative feedback."
   ]
  },
  {
   "cell_type": "code",
   "execution_count": 25,
   "id": "af9c5d6d",
   "metadata": {},
   "outputs": [],
   "source": [
    "feedback_event = 'send_benefit_feedback'\n",
    "feedback_data = main_data[main_data['event_name'] == feedback_event]"
   ]
  },
  {
   "cell_type": "code",
   "execution_count": 26,
   "id": "ed5e0768",
   "metadata": {},
   "outputs": [],
   "source": [
    "total_users_per_version = main_data.groupby('os_major_version')['user_pseudo_id'].nunique()\n",
    "feedback_counts = feedback_data['os_major_version'].value_counts()\n",
    "\n",
    "ratios = feedback_counts / total_users_per_version.reindex(feedback_counts.index)"
   ]
  },
  {
   "cell_type": "code",
   "execution_count": 27,
   "id": "f51f50c9",
   "metadata": {},
   "outputs": [],
   "source": [
    "top_operating_systems_feedback = ratios.sort_values(ascending=False).head(5)"
   ]
  },
  {
   "cell_type": "code",
   "execution_count": 28,
   "id": "8c3ca24b",
   "metadata": {},
   "outputs": [
    {
     "data": {
      "text/plain": [
       "Android 6     0.066667\n",
       "iOS 13        0.052632\n",
       "Android 10    0.047214\n",
       "Android 11    0.045047\n",
       "Android 5     0.044643\n",
       "dtype: float64"
      ]
     },
     "execution_count": 28,
     "metadata": {},
     "output_type": "execute_result"
    }
   ],
   "source": [
    "top_operating_systems_feedback"
   ]
  },
  {
   "cell_type": "code",
   "execution_count": 29,
   "id": "d83389a6",
   "metadata": {},
   "outputs": [
    {
     "data": {
      "image/png": "[encoded data removed]",
      "text/plain": [
       "<Figure size 720x432 with 1 Axes>"
      ]
     },
     "metadata": {
      "needs_background": "light"
     },
     "output_type": "display_data"
    }
   ],
   "source": [
    "plt.figure(figsize=(10, 6))\n",
    "sns.barplot(x=top_operating_systems_feedback.values, y=top_operating_systems_feedback.index, palette='muted')\n",
    "plt.title('Top 5 Operating Systems for Sending Feedback (Proportions)')\n",
    "plt.xlabel('Proportion of Users Sending Feedback')\n",
    "plt.ylabel('Operating System Version')\n",
    "plt.show()"
   ]
  },
  {
   "cell_type": "markdown",
   "id": "664ffd9d",
   "metadata": {},
   "source": [
    "## Retention\n",
    "How much is the retention for users by time \n",
    "\n"
   ]
  },
  {
   "cell_type": "code",
   "execution_count": 30,
   "id": "fa00318b",
   "metadata": {},
   "outputs": [],
   "source": [
    "evolution_users = main_data.groupby('date').agg(unique_clients=('user_pseudo_id', 'nunique')).sort_index()"
   ]
  },
  {
   "cell_type": "code",
   "execution_count": 31,
   "id": "10850005",
   "metadata": {},
   "outputs": [
    {
     "data": {
      "text/html": [
       "<div>\n",
       "<style scoped>\n",
       "    .dataframe tbody tr th:only-of-type {\n",
       "        vertical-align: middle;\n",
       "    }\n",
       "\n",
       "    .dataframe tbody tr th {\n",
       "        vertical-align: top;\n",
       "    }\n",
       "\n",
       "    .dataframe thead th {\n",
       "        text-align: right;\n",
       "    }\n",
       "</style>\n",
       "<table border=\"1\" class=\"dataframe\">\n",
       "  <thead>\n",
       "    <tr style=\"text-align: right;\">\n",
       "      <th></th>\n",
       "      <th>unique_clients</th>\n",
       "    </tr>\n",
       "    <tr>\n",
       "      <th>date</th>\n",
       "      <th></th>\n",
       "    </tr>\n",
       "  </thead>\n",
       "  <tbody>\n",
       "    <tr>\n",
       "      <th>2023-11-30</th>\n",
       "      <td>1629</td>\n",
       "    </tr>\n",
       "    <tr>\n",
       "      <th>2023-12-01</th>\n",
       "      <td>10309</td>\n",
       "    </tr>\n",
       "    <tr>\n",
       "      <th>2023-12-02</th>\n",
       "      <td>10054</td>\n",
       "    </tr>\n",
       "    <tr>\n",
       "      <th>2023-12-03</th>\n",
       "      <td>8582</td>\n",
       "    </tr>\n",
       "    <tr>\n",
       "      <th>2023-12-04</th>\n",
       "      <td>9663</td>\n",
       "    </tr>\n",
       "  </tbody>\n",
       "</table>\n",
       "</div>"
      ],
      "text/plain": [
       "            unique_clients\n",
       "date                      \n",
       "2023-11-30            1629\n",
       "2023-12-01           10309\n",
       "2023-12-02           10054\n",
       "2023-12-03            8582\n",
       "2023-12-04            9663"
      ]
     },
     "execution_count": 31,
     "metadata": {},
     "output_type": "execute_result"
    }
   ],
   "source": [
    "evolution_users.head()"
   ]
  },
  {
   "cell_type": "code",
   "execution_count": 32,
   "id": "330e22ec",
   "metadata": {},
   "outputs": [],
   "source": [
    "Retention  = evolution_users.pct_change(periods=1) * 100"
   ]
  },
  {
   "cell_type": "code",
   "execution_count": 33,
   "id": "45dff1fd",
   "metadata": {},
   "outputs": [],
   "source": [
    "Retention = Retention.iloc[1:-1]"
   ]
  },
  {
   "cell_type": "code",
   "execution_count": 34,
   "id": "1559f6a1",
   "metadata": {},
   "outputs": [
    {
     "data": {
      "text/html": [
       "<div>\n",
       "<style scoped>\n",
       "    .dataframe tbody tr th:only-of-type {\n",
       "        vertical-align: middle;\n",
       "    }\n",
       "\n",
       "    .dataframe tbody tr th {\n",
       "        vertical-align: top;\n",
       "    }\n",
       "\n",
       "    .dataframe thead th {\n",
       "        text-align: right;\n",
       "    }\n",
       "</style>\n",
       "<table border=\"1\" class=\"dataframe\">\n",
       "  <thead>\n",
       "    <tr style=\"text-align: right;\">\n",
       "      <th></th>\n",
       "      <th>unique_clients</th>\n",
       "    </tr>\n",
       "    <tr>\n",
       "      <th>date</th>\n",
       "      <th></th>\n",
       "    </tr>\n",
       "  </thead>\n",
       "  <tbody>\n",
       "    <tr>\n",
       "      <th>2023-12-01</th>\n",
       "      <td>532.842234</td>\n",
       "    </tr>\n",
       "    <tr>\n",
       "      <th>2023-12-02</th>\n",
       "      <td>-2.473567</td>\n",
       "    </tr>\n",
       "    <tr>\n",
       "      <th>2023-12-03</th>\n",
       "      <td>-14.640939</td>\n",
       "    </tr>\n",
       "    <tr>\n",
       "      <th>2023-12-04</th>\n",
       "      <td>12.596131</td>\n",
       "    </tr>\n",
       "    <tr>\n",
       "      <th>2023-12-05</th>\n",
       "      <td>6.416227</td>\n",
       "    </tr>\n",
       "    <tr>\n",
       "      <th>2023-12-06</th>\n",
       "      <td>7.721482</td>\n",
       "    </tr>\n",
       "    <tr>\n",
       "      <th>2023-12-07</th>\n",
       "      <td>6.942313</td>\n",
       "    </tr>\n",
       "    <tr>\n",
       "      <th>2023-12-08</th>\n",
       "      <td>-2.532500</td>\n",
       "    </tr>\n",
       "    <tr>\n",
       "      <th>2023-12-09</th>\n",
       "      <td>-4.408453</td>\n",
       "    </tr>\n",
       "    <tr>\n",
       "      <th>2023-12-10</th>\n",
       "      <td>-5.390958</td>\n",
       "    </tr>\n",
       "    <tr>\n",
       "      <th>2023-12-11</th>\n",
       "      <td>3.725340</td>\n",
       "    </tr>\n",
       "    <tr>\n",
       "      <th>2023-12-12</th>\n",
       "      <td>-1.227957</td>\n",
       "    </tr>\n",
       "    <tr>\n",
       "      <th>2023-12-13</th>\n",
       "      <td>-1.766685</td>\n",
       "    </tr>\n",
       "    <tr>\n",
       "      <th>2023-12-14</th>\n",
       "      <td>8.821011</td>\n",
       "    </tr>\n",
       "    <tr>\n",
       "      <th>2023-12-15</th>\n",
       "      <td>-0.918153</td>\n",
       "    </tr>\n",
       "    <tr>\n",
       "      <th>2023-12-16</th>\n",
       "      <td>2.029830</td>\n",
       "    </tr>\n",
       "    <tr>\n",
       "      <th>2023-12-17</th>\n",
       "      <td>2.508434</td>\n",
       "    </tr>\n",
       "    <tr>\n",
       "      <th>2023-12-18</th>\n",
       "      <td>-1.721374</td>\n",
       "    </tr>\n",
       "    <tr>\n",
       "      <th>2023-12-19</th>\n",
       "      <td>-1.803039</td>\n",
       "    </tr>\n",
       "    <tr>\n",
       "      <th>2023-12-20</th>\n",
       "      <td>1.976043</td>\n",
       "    </tr>\n",
       "    <tr>\n",
       "      <th>2023-12-21</th>\n",
       "      <td>1.131784</td>\n",
       "    </tr>\n",
       "    <tr>\n",
       "      <th>2023-12-22</th>\n",
       "      <td>0.805426</td>\n",
       "    </tr>\n",
       "    <tr>\n",
       "      <th>2023-12-23</th>\n",
       "      <td>2.674516</td>\n",
       "    </tr>\n",
       "    <tr>\n",
       "      <th>2023-12-24</th>\n",
       "      <td>-13.802425</td>\n",
       "    </tr>\n",
       "    <tr>\n",
       "      <th>2023-12-25</th>\n",
       "      <td>10.206215</td>\n",
       "    </tr>\n",
       "    <tr>\n",
       "      <th>2023-12-26</th>\n",
       "      <td>1.948780</td>\n",
       "    </tr>\n",
       "    <tr>\n",
       "      <th>2023-12-27</th>\n",
       "      <td>4.339000</td>\n",
       "    </tr>\n",
       "    <tr>\n",
       "      <th>2023-12-28</th>\n",
       "      <td>2.585927</td>\n",
       "    </tr>\n",
       "    <tr>\n",
       "      <th>2023-12-29</th>\n",
       "      <td>3.603319</td>\n",
       "    </tr>\n",
       "    <tr>\n",
       "      <th>2023-12-30</th>\n",
       "      <td>-0.228815</td>\n",
       "    </tr>\n",
       "    <tr>\n",
       "      <th>2023-12-31</th>\n",
       "      <td>-11.872181</td>\n",
       "    </tr>\n",
       "  </tbody>\n",
       "</table>\n",
       "</div>"
      ],
      "text/plain": [
       "            unique_clients\n",
       "date                      \n",
       "2023-12-01      532.842234\n",
       "2023-12-02       -2.473567\n",
       "2023-12-03      -14.640939\n",
       "2023-12-04       12.596131\n",
       "2023-12-05        6.416227\n",
       "2023-12-06        7.721482\n",
       "2023-12-07        6.942313\n",
       "2023-12-08       -2.532500\n",
       "2023-12-09       -4.408453\n",
       "2023-12-10       -5.390958\n",
       "2023-12-11        3.725340\n",
       "2023-12-12       -1.227957\n",
       "2023-12-13       -1.766685\n",
       "2023-12-14        8.821011\n",
       "2023-12-15       -0.918153\n",
       "2023-12-16        2.029830\n",
       "2023-12-17        2.508434\n",
       "2023-12-18       -1.721374\n",
       "2023-12-19       -1.803039\n",
       "2023-12-20        1.976043\n",
       "2023-12-21        1.131784\n",
       "2023-12-22        0.805426\n",
       "2023-12-23        2.674516\n",
       "2023-12-24      -13.802425\n",
       "2023-12-25       10.206215\n",
       "2023-12-26        1.948780\n",
       "2023-12-27        4.339000\n",
       "2023-12-28        2.585927\n",
       "2023-12-29        3.603319\n",
       "2023-12-30       -0.228815\n",
       "2023-12-31      -11.872181"
      ]
     },
     "execution_count": 34,
     "metadata": {},
     "output_type": "execute_result"
    }
   ],
   "source": [
    "Retention"
   ]
  },
  {
   "cell_type": "code",
   "execution_count": 35,
   "id": "6b314904",
   "metadata": {},
   "outputs": [
    {
     "data": {
      "image/png": "[encoded data removed]",
      "text/plain": [
       "<Figure size 720x432 with 1 Axes>"
      ]
     },
     "metadata": {
      "needs_background": "light"
     },
     "output_type": "display_data"
    }
   ],
   "source": [
    "import matplotlib.pyplot as plt\n",
    "\n",
    "\n",
    "plt.figure(figsize=(10, 6))\n",
    "plt.plot(Retention['unique_clients'], marker='o', linestyle='-', color='b', label='User Retention')\n",
    "\n",
    "\n",
    "plt.xticks([])\n",
    "\n",
    "\n",
    "plt.title('User Retention Over Time')\n",
    "plt.ylabel('Retention Percentage')\n",
    "plt.legend()\n",
    "plt.grid(True)\n",
    "plt.show()"
   ]
  },
  {
   "cell_type": "code",
   "execution_count": 36,
   "id": "f3ee73e5",
   "metadata": {},
   "outputs": [
    {
     "data": {
      "text/plain": [
       "unique_clients    17.744741\n",
       "dtype: float64"
      ]
     },
     "execution_count": 36,
     "metadata": {},
     "output_type": "execute_result"
    }
   ],
   "source": [
    "Retention.mean()"
   ]
  },
  {
   "cell_type": "markdown",
   "id": "69b91450",
   "metadata": {},
   "source": [
    "##### We have avg 17 % retention and it's good for fintech app like **m10** but it has to be more than 20 % "
   ]
  },
  {
   "cell_type": "markdown",
   "id": "5cde3861",
   "metadata": {},
   "source": [
    "## Stickiness\n",
    "\n",
    "Total number of users per day in relation to total number of user per month."
   ]
  },
  {
   "cell_type": "code",
   "execution_count": 50,
   "id": "c95505ef",
   "metadata": {},
   "outputs": [],
   "source": [
    "date_stats = main_data.groupby(['date', 'weekday', 'weekday_num']).agg(unique_users=('user_pseudo_id', 'nunique')).reset_index()\n",
    "year_month_stats = main_data.groupby('year_month').agg(unique_users_by_month=('user_pseudo_id', 'nunique')).reset_index()\n",
    "date_stats['year_month'] = date_stats['date'].str[:7]"
   ]
  },
  {
   "cell_type": "code",
   "execution_count": 52,
   "id": "44c4e085",
   "metadata": {},
   "outputs": [],
   "source": [
    "final_date_stats = date_stats.merge(year_month_stats)\n",
    "final_date_stats['stickiness'] = (final_date_stats['unique_users'] / final_date_stats['unique_users_by_month']) * 100\n",
    "\n"
   ]
  },
  {
   "cell_type": "code",
   "execution_count": 55,
   "id": "1d7beb3f",
   "metadata": {},
   "outputs": [
    {
     "data": {
      "text/html": [
       "<div>\n",
       "<style scoped>\n",
       "    .dataframe tbody tr th:only-of-type {\n",
       "        vertical-align: middle;\n",
       "    }\n",
       "\n",
       "    .dataframe tbody tr th {\n",
       "        vertical-align: top;\n",
       "    }\n",
       "\n",
       "    .dataframe thead th {\n",
       "        text-align: right;\n",
       "    }\n",
       "</style>\n",
       "<table border=\"1\" class=\"dataframe\">\n",
       "  <thead>\n",
       "    <tr style=\"text-align: right;\">\n",
       "      <th></th>\n",
       "      <th>date</th>\n",
       "      <th>weekday</th>\n",
       "      <th>weekday_num</th>\n",
       "      <th>unique_users</th>\n",
       "      <th>year_month</th>\n",
       "      <th>unique_users_by_month</th>\n",
       "      <th>stickiness</th>\n",
       "    </tr>\n",
       "  </thead>\n",
       "  <tbody>\n",
       "    <tr>\n",
       "      <th>1</th>\n",
       "      <td>2023-12-01</td>\n",
       "      <td>Friday</td>\n",
       "      <td>4</td>\n",
       "      <td>10309</td>\n",
       "      <td>2023-12</td>\n",
       "      <td>63972</td>\n",
       "      <td>16.114863</td>\n",
       "    </tr>\n",
       "    <tr>\n",
       "      <th>2</th>\n",
       "      <td>2023-12-02</td>\n",
       "      <td>Saturday</td>\n",
       "      <td>5</td>\n",
       "      <td>10054</td>\n",
       "      <td>2023-12</td>\n",
       "      <td>63972</td>\n",
       "      <td>15.716251</td>\n",
       "    </tr>\n",
       "    <tr>\n",
       "      <th>3</th>\n",
       "      <td>2023-12-03</td>\n",
       "      <td>Sunday</td>\n",
       "      <td>6</td>\n",
       "      <td>8582</td>\n",
       "      <td>2023-12</td>\n",
       "      <td>63972</td>\n",
       "      <td>13.415244</td>\n",
       "    </tr>\n",
       "    <tr>\n",
       "      <th>4</th>\n",
       "      <td>2023-12-04</td>\n",
       "      <td>Monday</td>\n",
       "      <td>0</td>\n",
       "      <td>9663</td>\n",
       "      <td>2023-12</td>\n",
       "      <td>63972</td>\n",
       "      <td>15.105046</td>\n",
       "    </tr>\n",
       "    <tr>\n",
       "      <th>5</th>\n",
       "      <td>2023-12-05</td>\n",
       "      <td>Tuesday</td>\n",
       "      <td>1</td>\n",
       "      <td>10283</td>\n",
       "      <td>2023-12</td>\n",
       "      <td>63972</td>\n",
       "      <td>16.074220</td>\n",
       "    </tr>\n",
       "    <tr>\n",
       "      <th>6</th>\n",
       "      <td>2023-12-06</td>\n",
       "      <td>Wednesday</td>\n",
       "      <td>2</td>\n",
       "      <td>11077</td>\n",
       "      <td>2023-12</td>\n",
       "      <td>63972</td>\n",
       "      <td>17.315388</td>\n",
       "    </tr>\n",
       "    <tr>\n",
       "      <th>7</th>\n",
       "      <td>2023-12-07</td>\n",
       "      <td>Thursday</td>\n",
       "      <td>3</td>\n",
       "      <td>11846</td>\n",
       "      <td>2023-12</td>\n",
       "      <td>63972</td>\n",
       "      <td>18.517476</td>\n",
       "    </tr>\n",
       "    <tr>\n",
       "      <th>8</th>\n",
       "      <td>2023-12-08</td>\n",
       "      <td>Friday</td>\n",
       "      <td>4</td>\n",
       "      <td>11546</td>\n",
       "      <td>2023-12</td>\n",
       "      <td>63972</td>\n",
       "      <td>18.048521</td>\n",
       "    </tr>\n",
       "    <tr>\n",
       "      <th>9</th>\n",
       "      <td>2023-12-09</td>\n",
       "      <td>Saturday</td>\n",
       "      <td>5</td>\n",
       "      <td>11037</td>\n",
       "      <td>2023-12</td>\n",
       "      <td>63972</td>\n",
       "      <td>17.252861</td>\n",
       "    </tr>\n",
       "    <tr>\n",
       "      <th>10</th>\n",
       "      <td>2023-12-10</td>\n",
       "      <td>Sunday</td>\n",
       "      <td>6</td>\n",
       "      <td>10442</td>\n",
       "      <td>2023-12</td>\n",
       "      <td>63972</td>\n",
       "      <td>16.322766</td>\n",
       "    </tr>\n",
       "    <tr>\n",
       "      <th>11</th>\n",
       "      <td>2023-12-11</td>\n",
       "      <td>Monday</td>\n",
       "      <td>0</td>\n",
       "      <td>10831</td>\n",
       "      <td>2023-12</td>\n",
       "      <td>63972</td>\n",
       "      <td>16.930845</td>\n",
       "    </tr>\n",
       "    <tr>\n",
       "      <th>12</th>\n",
       "      <td>2023-12-12</td>\n",
       "      <td>Tuesday</td>\n",
       "      <td>1</td>\n",
       "      <td>10698</td>\n",
       "      <td>2023-12</td>\n",
       "      <td>63972</td>\n",
       "      <td>16.722941</td>\n",
       "    </tr>\n",
       "    <tr>\n",
       "      <th>13</th>\n",
       "      <td>2023-12-13</td>\n",
       "      <td>Wednesday</td>\n",
       "      <td>2</td>\n",
       "      <td>10509</td>\n",
       "      <td>2023-12</td>\n",
       "      <td>63972</td>\n",
       "      <td>16.427500</td>\n",
       "    </tr>\n",
       "    <tr>\n",
       "      <th>14</th>\n",
       "      <td>2023-12-14</td>\n",
       "      <td>Thursday</td>\n",
       "      <td>3</td>\n",
       "      <td>11436</td>\n",
       "      <td>2023-12</td>\n",
       "      <td>63972</td>\n",
       "      <td>17.876571</td>\n",
       "    </tr>\n",
       "    <tr>\n",
       "      <th>15</th>\n",
       "      <td>2023-12-15</td>\n",
       "      <td>Friday</td>\n",
       "      <td>4</td>\n",
       "      <td>11331</td>\n",
       "      <td>2023-12</td>\n",
       "      <td>63972</td>\n",
       "      <td>17.712437</td>\n",
       "    </tr>\n",
       "    <tr>\n",
       "      <th>16</th>\n",
       "      <td>2023-12-16</td>\n",
       "      <td>Saturday</td>\n",
       "      <td>5</td>\n",
       "      <td>11561</td>\n",
       "      <td>2023-12</td>\n",
       "      <td>63972</td>\n",
       "      <td>18.071969</td>\n",
       "    </tr>\n",
       "    <tr>\n",
       "      <th>17</th>\n",
       "      <td>2023-12-17</td>\n",
       "      <td>Sunday</td>\n",
       "      <td>6</td>\n",
       "      <td>11851</td>\n",
       "      <td>2023-12</td>\n",
       "      <td>63972</td>\n",
       "      <td>18.525292</td>\n",
       "    </tr>\n",
       "    <tr>\n",
       "      <th>18</th>\n",
       "      <td>2023-12-18</td>\n",
       "      <td>Monday</td>\n",
       "      <td>0</td>\n",
       "      <td>11647</td>\n",
       "      <td>2023-12</td>\n",
       "      <td>63972</td>\n",
       "      <td>18.206403</td>\n",
       "    </tr>\n",
       "    <tr>\n",
       "      <th>19</th>\n",
       "      <td>2023-12-19</td>\n",
       "      <td>Tuesday</td>\n",
       "      <td>1</td>\n",
       "      <td>11437</td>\n",
       "      <td>2023-12</td>\n",
       "      <td>63972</td>\n",
       "      <td>17.878134</td>\n",
       "    </tr>\n",
       "    <tr>\n",
       "      <th>20</th>\n",
       "      <td>2023-12-20</td>\n",
       "      <td>Wednesday</td>\n",
       "      <td>2</td>\n",
       "      <td>11663</td>\n",
       "      <td>2023-12</td>\n",
       "      <td>63972</td>\n",
       "      <td>18.231414</td>\n",
       "    </tr>\n",
       "    <tr>\n",
       "      <th>21</th>\n",
       "      <td>2023-12-21</td>\n",
       "      <td>Thursday</td>\n",
       "      <td>3</td>\n",
       "      <td>11795</td>\n",
       "      <td>2023-12</td>\n",
       "      <td>63972</td>\n",
       "      <td>18.437754</td>\n",
       "    </tr>\n",
       "    <tr>\n",
       "      <th>22</th>\n",
       "      <td>2023-12-22</td>\n",
       "      <td>Friday</td>\n",
       "      <td>4</td>\n",
       "      <td>11890</td>\n",
       "      <td>2023-12</td>\n",
       "      <td>63972</td>\n",
       "      <td>18.586256</td>\n",
       "    </tr>\n",
       "    <tr>\n",
       "      <th>23</th>\n",
       "      <td>2023-12-23</td>\n",
       "      <td>Saturday</td>\n",
       "      <td>5</td>\n",
       "      <td>12208</td>\n",
       "      <td>2023-12</td>\n",
       "      <td>63972</td>\n",
       "      <td>19.083349</td>\n",
       "    </tr>\n",
       "    <tr>\n",
       "      <th>24</th>\n",
       "      <td>2023-12-24</td>\n",
       "      <td>Sunday</td>\n",
       "      <td>6</td>\n",
       "      <td>10523</td>\n",
       "      <td>2023-12</td>\n",
       "      <td>63972</td>\n",
       "      <td>16.449384</td>\n",
       "    </tr>\n",
       "    <tr>\n",
       "      <th>25</th>\n",
       "      <td>2023-12-25</td>\n",
       "      <td>Monday</td>\n",
       "      <td>0</td>\n",
       "      <td>11597</td>\n",
       "      <td>2023-12</td>\n",
       "      <td>63972</td>\n",
       "      <td>18.128244</td>\n",
       "    </tr>\n",
       "    <tr>\n",
       "      <th>26</th>\n",
       "      <td>2023-12-26</td>\n",
       "      <td>Tuesday</td>\n",
       "      <td>1</td>\n",
       "      <td>11823</td>\n",
       "      <td>2023-12</td>\n",
       "      <td>63972</td>\n",
       "      <td>18.481523</td>\n",
       "    </tr>\n",
       "    <tr>\n",
       "      <th>27</th>\n",
       "      <td>2023-12-27</td>\n",
       "      <td>Wednesday</td>\n",
       "      <td>2</td>\n",
       "      <td>12336</td>\n",
       "      <td>2023-12</td>\n",
       "      <td>63972</td>\n",
       "      <td>19.283437</td>\n",
       "    </tr>\n",
       "    <tr>\n",
       "      <th>28</th>\n",
       "      <td>2023-12-28</td>\n",
       "      <td>Thursday</td>\n",
       "      <td>3</td>\n",
       "      <td>12655</td>\n",
       "      <td>2023-12</td>\n",
       "      <td>63972</td>\n",
       "      <td>19.782092</td>\n",
       "    </tr>\n",
       "    <tr>\n",
       "      <th>29</th>\n",
       "      <td>2023-12-29</td>\n",
       "      <td>Friday</td>\n",
       "      <td>4</td>\n",
       "      <td>13111</td>\n",
       "      <td>2023-12</td>\n",
       "      <td>63972</td>\n",
       "      <td>20.494904</td>\n",
       "    </tr>\n",
       "    <tr>\n",
       "      <th>30</th>\n",
       "      <td>2023-12-30</td>\n",
       "      <td>Saturday</td>\n",
       "      <td>5</td>\n",
       "      <td>13081</td>\n",
       "      <td>2023-12</td>\n",
       "      <td>63972</td>\n",
       "      <td>20.448009</td>\n",
       "    </tr>\n",
       "    <tr>\n",
       "      <th>31</th>\n",
       "      <td>2023-12-31</td>\n",
       "      <td>Sunday</td>\n",
       "      <td>6</td>\n",
       "      <td>11528</td>\n",
       "      <td>2023-12</td>\n",
       "      <td>63972</td>\n",
       "      <td>18.020384</td>\n",
       "    </tr>\n",
       "  </tbody>\n",
       "</table>\n",
       "</div>"
      ],
      "text/plain": [
       "          date    weekday  weekday_num  unique_users year_month  \\\n",
       "1   2023-12-01     Friday            4         10309    2023-12   \n",
       "2   2023-12-02   Saturday            5         10054    2023-12   \n",
       "3   2023-12-03     Sunday            6          8582    2023-12   \n",
       "4   2023-12-04     Monday            0          9663    2023-12   \n",
       "5   2023-12-05    Tuesday            1         10283    2023-12   \n",
       "6   2023-12-06  Wednesday            2         11077    2023-12   \n",
       "7   2023-12-07   Thursday            3         11846    2023-12   \n",
       "8   2023-12-08     Friday            4         11546    2023-12   \n",
       "9   2023-12-09   Saturday            5         11037    2023-12   \n",
       "10  2023-12-10     Sunday            6         10442    2023-12   \n",
       "11  2023-12-11     Monday            0         10831    2023-12   \n",
       "12  2023-12-12    Tuesday            1         10698    2023-12   \n",
       "13  2023-12-13  Wednesday            2         10509    2023-12   \n",
       "14  2023-12-14   Thursday            3         11436    2023-12   \n",
       "15  2023-12-15     Friday            4         11331    2023-12   \n",
       "16  2023-12-16   Saturday            5         11561    2023-12   \n",
       "17  2023-12-17     Sunday            6         11851    2023-12   \n",
       "18  2023-12-18     Monday            0         11647    2023-12   \n",
       "19  2023-12-19    Tuesday            1         11437    2023-12   \n",
       "20  2023-12-20  Wednesday            2         11663    2023-12   \n",
       "21  2023-12-21   Thursday            3         11795    2023-12   \n",
       "22  2023-12-22     Friday            4         11890    2023-12   \n",
       "23  2023-12-23   Saturday            5         12208    2023-12   \n",
       "24  2023-12-24     Sunday            6         10523    2023-12   \n",
       "25  2023-12-25     Monday            0         11597    2023-12   \n",
       "26  2023-12-26    Tuesday            1         11823    2023-12   \n",
       "27  2023-12-27  Wednesday            2         12336    2023-12   \n",
       "28  2023-12-28   Thursday            3         12655    2023-12   \n",
       "29  2023-12-29     Friday            4         13111    2023-12   \n",
       "30  2023-12-30   Saturday            5         13081    2023-12   \n",
       "31  2023-12-31     Sunday            6         11528    2023-12   \n",
       "\n",
       "    unique_users_by_month  stickiness  \n",
       "1                   63972   16.114863  \n",
       "2                   63972   15.716251  \n",
       "3                   63972   13.415244  \n",
       "4                   63972   15.105046  \n",
       "5                   63972   16.074220  \n",
       "6                   63972   17.315388  \n",
       "7                   63972   18.517476  \n",
       "8                   63972   18.048521  \n",
       "9                   63972   17.252861  \n",
       "10                  63972   16.322766  \n",
       "11                  63972   16.930845  \n",
       "12                  63972   16.722941  \n",
       "13                  63972   16.427500  \n",
       "14                  63972   17.876571  \n",
       "15                  63972   17.712437  \n",
       "16                  63972   18.071969  \n",
       "17                  63972   18.525292  \n",
       "18                  63972   18.206403  \n",
       "19                  63972   17.878134  \n",
       "20                  63972   18.231414  \n",
       "21                  63972   18.437754  \n",
       "22                  63972   18.586256  \n",
       "23                  63972   19.083349  \n",
       "24                  63972   16.449384  \n",
       "25                  63972   18.128244  \n",
       "26                  63972   18.481523  \n",
       "27                  63972   19.283437  \n",
       "28                  63972   19.782092  \n",
       "29                  63972   20.494904  \n",
       "30                  63972   20.448009  \n",
       "31                  63972   18.020384  "
      ]
     },
     "execution_count": 55,
     "metadata": {},
     "output_type": "execute_result"
    }
   ],
   "source": [
    "final_date_stats"
   ]
  },
  {
   "cell_type": "code",
   "execution_count": 54,
   "id": "d3c8c96c",
   "metadata": {},
   "outputs": [],
   "source": [
    "final_date_stats.drop([0, final_date_stats.shape[0] - 1], inplace=True)"
   ]
  },
  {
   "cell_type": "code",
   "execution_count": 17,
   "id": "48e52f33",
   "metadata": {},
   "outputs": [
    {
     "data": {
      "text/plain": [
       "(18.020102230628545, 17.666828193143985)"
      ]
     },
     "execution_count": 17,
     "metadata": {},
     "output_type": "execute_result"
    }
   ],
   "source": [
    "final_date_stats['stickiness'].median(), final_date_stats['stickiness'].mean()"
   ]
  },
  {
   "cell_type": "code",
   "execution_count": 18,
   "id": "0367df1d",
   "metadata": {},
   "outputs": [],
   "source": [
    "Stickiness =final_date_stats.groupby([ 'weekday']).agg(\n",
    "    avg_stick=('stickiness', 'mean'),\n",
    "    med_stick=('stickiness', np.median)\n",
    ")"
   ]
  },
  {
   "cell_type": "code",
   "execution_count": 19,
   "id": "8f9d9d82",
   "metadata": {},
   "outputs": [],
   "source": [
    "Stickiness_sorted = Stickiness.sort_values(by='avg_stick', ascending=False)"
   ]
  },
  {
   "cell_type": "code",
   "execution_count": 20,
   "id": "c593c22c",
   "metadata": {},
   "outputs": [
    {
     "data": {
      "text/html": [
       "<div>\n",
       "<style scoped>\n",
       "    .dataframe tbody tr th:only-of-type {\n",
       "        vertical-align: middle;\n",
       "    }\n",
       "\n",
       "    .dataframe tbody tr th {\n",
       "        vertical-align: top;\n",
       "    }\n",
       "\n",
       "    .dataframe thead th {\n",
       "        text-align: right;\n",
       "    }\n",
       "</style>\n",
       "<table border=\"1\" class=\"dataframe\">\n",
       "  <thead>\n",
       "    <tr style=\"text-align: right;\">\n",
       "      <th></th>\n",
       "      <th>avg_stick</th>\n",
       "      <th>med_stick</th>\n",
       "    </tr>\n",
       "    <tr>\n",
       "      <th>weekday</th>\n",
       "      <th></th>\n",
       "      <th></th>\n",
       "    </tr>\n",
       "  </thead>\n",
       "  <tbody>\n",
       "    <tr>\n",
       "      <th>Thursday</th>\n",
       "      <td>18.653573</td>\n",
       "      <td>18.478108</td>\n",
       "    </tr>\n",
       "    <tr>\n",
       "      <th>Friday</th>\n",
       "      <td>18.191425</td>\n",
       "      <td>18.049802</td>\n",
       "    </tr>\n",
       "    <tr>\n",
       "      <th>Saturday</th>\n",
       "      <td>18.114517</td>\n",
       "      <td>18.071686</td>\n",
       "    </tr>\n",
       "    <tr>\n",
       "      <th>Wednesday</th>\n",
       "      <td>17.815719</td>\n",
       "      <td>17.774686</td>\n",
       "    </tr>\n",
       "    <tr>\n",
       "      <th>Tuesday</th>\n",
       "      <td>17.289716</td>\n",
       "      <td>17.301049</td>\n",
       "    </tr>\n",
       "    <tr>\n",
       "      <th>Monday</th>\n",
       "      <td>17.093149</td>\n",
       "      <td>17.530052</td>\n",
       "    </tr>\n",
       "    <tr>\n",
       "      <th>Sunday</th>\n",
       "      <td>16.546668</td>\n",
       "      <td>16.449127</td>\n",
       "    </tr>\n",
       "  </tbody>\n",
       "</table>\n",
       "</div>"
      ],
      "text/plain": [
       "           avg_stick  med_stick\n",
       "weekday                        \n",
       "Thursday   18.653573  18.478108\n",
       "Friday     18.191425  18.049802\n",
       "Saturday   18.114517  18.071686\n",
       "Wednesday  17.815719  17.774686\n",
       "Tuesday    17.289716  17.301049\n",
       "Monday     17.093149  17.530052\n",
       "Sunday     16.546668  16.449127"
      ]
     },
     "execution_count": 20,
     "metadata": {},
     "output_type": "execute_result"
    }
   ],
   "source": [
    "Stickiness_sorted"
   ]
  },
  {
   "cell_type": "code",
   "execution_count": 21,
   "id": "959fb745",
   "metadata": {},
   "outputs": [
    {
     "data": {
      "image/png": "[encoded data removed]",
      "text/plain": [
       "<Figure size 864x432 with 1 Axes>"
      ]
     },
     "metadata": {},
     "output_type": "display_data"
    }
   ],
   "source": [
    "sns.set(style=\"whitegrid\")\n",
    "plt.figure(figsize=(12, 6))\n",
    "sns.barplot(x=Stickiness_sorted.index, y='avg_stick', data=Stickiness_sorted, label='Average Stickiness', color='orange', alpha=0.7)\n",
    "plt.title('User Stickiness Analysis')\n",
    "plt.xlabel('Weekday')\n",
    "plt.ylabel('Stickiness (%)')\n",
    "plt.legend(loc='upper left')\n",
    "\n",
    "plt.show()"
   ]
  },
  {
   "cell_type": "markdown",
   "id": "79328337",
   "metadata": {},
   "source": [
    "This bar chart shows us Thursday is the most sticky day for us and we have most clients on Thursday, it means if we have some new campaigns or if we are just testing some new futures Thursday would be great for this role. And also with some in-app notifications we can raise stickiness on sunday.(For example 'Pay with m10 on your weekend and earn cashback'). Most of people spending more money weekends and I  assuming we earn profit from user's purschases)"
   ]
  },
  {
   "cell_type": "markdown",
   "id": "f2d54e83",
   "metadata": {},
   "source": [
    "## Which benefits were used the most\n",
    "Assumption: We have benefits for our user's and I Want to Analyze which benefits used more along users "
   ]
  },
  {
   "cell_type": "code",
   "execution_count": 42,
   "id": "73534c74",
   "metadata": {},
   "outputs": [],
   "source": [
    "main_data['benefit_info'] = (\n",
    "    main_data['event_name']\n",
    "    .str.split(\"gen_dynamic_bar_paywith10_\")\n",
    "    .apply(lambda x: x[-1] if len(x) > 1 else 'na')\n",
    ")"
   ]
  },
  {
   "cell_type": "code",
   "execution_count": 49,
   "id": "574cffe8",
   "metadata": {
    "scrolled": true
   },
   "outputs": [
    {
     "data": {
      "text/plain": [
       "na              5496650\n",
       "bolmart            1327\n",
       "grandmart          1237\n",
       "open_scanner       1171\n",
       "cafecity            805\n",
       "megastore           495\n",
       "bizim                24\n",
       "buta                 12\n",
       "aloe                 10\n",
       "Name: benefit_info, dtype: int64"
      ]
     },
     "execution_count": 49,
     "metadata": {},
     "output_type": "execute_result"
    }
   ],
   "source": [
    "main_data['benefit_info'].value_counts()"
   ]
  },
  {
   "cell_type": "code",
   "execution_count": 46,
   "id": "4d156b3a",
   "metadata": {},
   "outputs": [],
   "source": [
    "benefit_info_counts = main_data['benefit_info'].value_counts().iloc[1:]"
   ]
  },
  {
   "cell_type": "code",
   "execution_count": 47,
   "id": "856681ba",
   "metadata": {},
   "outputs": [
    {
     "data": {
      "text/plain": [
       "bolmart         1327\n",
       "grandmart       1237\n",
       "open_scanner    1171\n",
       "cafecity         805\n",
       "megastore        495\n",
       "bizim             24\n",
       "buta              12\n",
       "aloe              10\n",
       "Name: benefit_info, dtype: int64"
      ]
     },
     "execution_count": 47,
     "metadata": {},
     "output_type": "execute_result"
    }
   ],
   "source": [
    "benefit_info_counts"
   ]
  },
  {
   "cell_type": "code",
   "execution_count": 48,
   "id": "49eac8a6",
   "metadata": {},
   "outputs": [
    {
     "data": {
      "image/png": "[encoded data removed]",
      "text/plain": [
       "<Figure size 864x432 with 1 Axes>"
      ]
     },
     "metadata": {},
     "output_type": "display_data"
    }
   ],
   "source": [
    "\n",
    "sns.set(style=\"whitegrid\")\n",
    "\n",
    "plt.figure(figsize=(12, 6))\n",
    "sns.barplot(x=benefit_info_counts.index, y=benefit_info_counts.values, palette='viridis')\n",
    "\n",
    "plt.title('Benefit Usage Analysis')\n",
    "plt.xlabel('Benefit Info')\n",
    "plt.ylabel('Number of used')\n",
    "plt.xticks(rotation=45, ha='right')  \n",
    "plt.show()\n"
   ]
  },
  {
   "cell_type": "markdown",
   "id": "938c995a",
   "metadata": {},
   "source": [
    "## What are customer preferences based on tablet or mobile?\n",
    "Assumption. Each session is unique and short-lived (e.g. 30 mins, or 1 hour)"
   ]
  },
  {
   "cell_type": "code",
   "execution_count": 49,
   "id": "b5fd7c37",
   "metadata": {},
   "outputs": [],
   "source": [
    "average_preferences = (\n",
    "    main_data\n",
    "    .groupby(['category', 'event_name'])\n",
    "    .agg(avg_ssn=('ga_session_id', 'nunique'))\n",
    "    .groupby(['category', 'event_name'])\n",
    "    .mean()\n",
    "    .reset_index()\n",
    "    .sort_values(by=['category', 'avg_ssn'], ascending=[True, False])\n",
    ")"
   ]
  },
  {
   "cell_type": "code",
   "execution_count": 50,
   "id": "73ba17d9",
   "metadata": {},
   "outputs": [
    {
     "data": {
      "text/html": [
       "<div>\n",
       "<style scoped>\n",
       "    .dataframe tbody tr th:only-of-type {\n",
       "        vertical-align: middle;\n",
       "    }\n",
       "\n",
       "    .dataframe tbody tr th {\n",
       "        vertical-align: top;\n",
       "    }\n",
       "\n",
       "    .dataframe thead th {\n",
       "        text-align: right;\n",
       "    }\n",
       "</style>\n",
       "<table border=\"1\" class=\"dataframe\">\n",
       "  <thead>\n",
       "    <tr style=\"text-align: right;\">\n",
       "      <th></th>\n",
       "      <th>category</th>\n",
       "      <th>event_name</th>\n",
       "      <th>avg_ssn</th>\n",
       "    </tr>\n",
       "  </thead>\n",
       "  <tbody>\n",
       "    <tr>\n",
       "      <th>12</th>\n",
       "      <td>mobile</td>\n",
       "      <td>click_transfer</td>\n",
       "      <td>269505.0</td>\n",
       "    </tr>\n",
       "    <tr>\n",
       "      <th>3</th>\n",
       "      <td>mobile</td>\n",
       "      <td>click_bar_payments</td>\n",
       "      <td>237736.0</td>\n",
       "    </tr>\n",
       "    <tr>\n",
       "      <th>36</th>\n",
       "      <td>mobile</td>\n",
       "      <td>purchase</td>\n",
       "      <td>232994.0</td>\n",
       "    </tr>\n",
       "    <tr>\n",
       "      <th>10</th>\n",
       "      <td>mobile</td>\n",
       "      <td>click_top_up</td>\n",
       "      <td>219112.0</td>\n",
       "    </tr>\n",
       "    <tr>\n",
       "      <th>13</th>\n",
       "      <td>mobile</td>\n",
       "      <td>click_w2c</td>\n",
       "      <td>208205.0</td>\n",
       "    </tr>\n",
       "    <tr>\n",
       "      <th>...</th>\n",
       "      <td>...</td>\n",
       "      <td>...</td>\n",
       "      <td>...</td>\n",
       "    </tr>\n",
       "    <tr>\n",
       "      <th>60</th>\n",
       "      <td>tablet</td>\n",
       "      <td>gen_dynamic_bar_paywith10_megastore</td>\n",
       "      <td>4.0</td>\n",
       "    </tr>\n",
       "    <tr>\n",
       "      <th>59</th>\n",
       "      <td>tablet</td>\n",
       "      <td>gen_dynamic_bar_paywith10_grandmart</td>\n",
       "      <td>3.0</td>\n",
       "    </tr>\n",
       "    <tr>\n",
       "      <th>58</th>\n",
       "      <td>tablet</td>\n",
       "      <td>gen_dynamic_bar_paywith10_cafecity</td>\n",
       "      <td>2.0</td>\n",
       "    </tr>\n",
       "    <tr>\n",
       "      <th>61</th>\n",
       "      <td>tablet</td>\n",
       "      <td>gen_dynamic_bar_paywith10_open_scanner</td>\n",
       "      <td>2.0</td>\n",
       "    </tr>\n",
       "    <tr>\n",
       "      <th>57</th>\n",
       "      <td>tablet</td>\n",
       "      <td>gen_dynamic_bar_paywith10_bolmart</td>\n",
       "      <td>1.0</td>\n",
       "    </tr>\n",
       "  </tbody>\n",
       "</table>\n",
       "<p>75 rows × 3 columns</p>\n",
       "</div>"
      ],
      "text/plain": [
       "   category                              event_name   avg_ssn\n",
       "12   mobile                          click_transfer  269505.0\n",
       "3    mobile                      click_bar_payments  237736.0\n",
       "36   mobile                                purchase  232994.0\n",
       "10   mobile                            click_top_up  219112.0\n",
       "13   mobile                               click_w2c  208205.0\n",
       "..      ...                                     ...       ...\n",
       "60   tablet     gen_dynamic_bar_paywith10_megastore       4.0\n",
       "59   tablet     gen_dynamic_bar_paywith10_grandmart       3.0\n",
       "58   tablet      gen_dynamic_bar_paywith10_cafecity       2.0\n",
       "61   tablet  gen_dynamic_bar_paywith10_open_scanner       2.0\n",
       "57   tablet       gen_dynamic_bar_paywith10_bolmart       1.0\n",
       "\n",
       "[75 rows x 3 columns]"
      ]
     },
     "execution_count": 50,
     "metadata": {},
     "output_type": "execute_result"
    }
   ],
   "source": [
    "average_preferences"
   ]
  },
  {
   "cell_type": "code",
   "execution_count": 51,
   "id": "cd975679",
   "metadata": {},
   "outputs": [
    {
     "data": {
      "image/png": "[encoded data removed]",
      "text/plain": [
       "<Figure size 1152x576 with 2 Axes>"
      ]
     },
     "metadata": {},
     "output_type": "display_data"
    }
   ],
   "source": [
    "sns.set(style=\"whitegrid\")\n",
    "plt.figure(figsize=(16, 8))\n",
    "\n",
    "plt.subplot(1, 2, 1)\n",
    "sns.barplot(x='avg_ssn', y='event_name', data=average_preferences[average_preferences['category'] == 'tablet'].head(5), palette='viridis')\n",
    "plt.title('Top 5 Average Events for Tablet')\n",
    "plt.xlabel('Average Session Count')\n",
    "plt.ylabel('Event Name')\n",
    "\n",
    "plt.subplot(1, 2, 2)\n",
    "sns.barplot(x='avg_ssn', y='event_name', data=average_preferences[average_preferences['category'] == 'mobile'].head(5), palette='viridis')\n",
    "plt.title('Top 5 Average Events for Mobile')\n",
    "plt.xlabel('Average Session Count')\n",
    "plt.ylabel('Event Name')\n",
    "\n",
    "plt.tight_layout()\n",
    "plt.show()"
   ]
  },
  {
   "cell_type": "markdown",
   "id": "5612841c",
   "metadata": {},
   "source": [
    " Customers prefer to use purchase functionality via tablet while they transfer money via mobile"
   ]
  },
  {
   "cell_type": "markdown",
   "id": "813815ad",
   "metadata": {},
   "source": [
    "## What is the average time spent in the app by customer\n",
    "**Assumption**: event_timestamp is the time start of each session event and event timestamp is the subsequent timestamp of each event. Definition of time spent per session is different between first touch and last event timestamp.\n",
    "    \n",
    "We need to calculate total time spent in minutes for each session for each user. We could take total time spent by users across all sessions, but for this purpose we will just calculate average session time.\n",
    "\n",
    "Average time spent in the app = average time of a session for each user"
   ]
  },
  {
   "cell_type": "code",
   "execution_count": 52,
   "id": "3fcc7011",
   "metadata": {},
   "outputs": [],
   "source": [
    "time_spent_by_session = main_data.groupby(['ga_session_id']).agg(\n",
    "    session_start_time=('event_timestamp', 'min'),\n",
    "    session_end_time=('event_timestamp', 'max')\n",
    ")"
   ]
  },
  {
   "cell_type": "code",
   "execution_count": 53,
   "id": "faae946a",
   "metadata": {},
   "outputs": [],
   "source": [
    "time_spent_by_session['time_spent'] = (\n",
    "    time_spent_by_session['session_end_time'] - time_spent_by_session['session_start_time']\n",
    ")"
   ]
  },
  {
   "cell_type": "code",
   "execution_count": 54,
   "id": "0cf17a67",
   "metadata": {},
   "outputs": [
    {
     "data": {
      "text/html": [
       "<div>\n",
       "<style scoped>\n",
       "    .dataframe tbody tr th:only-of-type {\n",
       "        vertical-align: middle;\n",
       "    }\n",
       "\n",
       "    .dataframe tbody tr th {\n",
       "        vertical-align: top;\n",
       "    }\n",
       "\n",
       "    .dataframe thead th {\n",
       "        text-align: right;\n",
       "    }\n",
       "</style>\n",
       "<table border=\"1\" class=\"dataframe\">\n",
       "  <thead>\n",
       "    <tr style=\"text-align: right;\">\n",
       "      <th></th>\n",
       "      <th>time_spent</th>\n",
       "    </tr>\n",
       "    <tr>\n",
       "      <th>ga_session_id</th>\n",
       "      <th></th>\n",
       "    </tr>\n",
       "  </thead>\n",
       "  <tbody>\n",
       "    <tr>\n",
       "      <th>4.312000e+03</th>\n",
       "      <td>0 days 00:00:13.746993</td>\n",
       "    </tr>\n",
       "    <tr>\n",
       "      <th>1.681589e+09</th>\n",
       "      <td>0 days 00:06:55.452420</td>\n",
       "    </tr>\n",
       "    <tr>\n",
       "      <th>1.684921e+09</th>\n",
       "      <td>0 days 00:00:08.549011</td>\n",
       "    </tr>\n",
       "    <tr>\n",
       "      <th>1.687199e+09</th>\n",
       "      <td>0 days 00:05:02.866342</td>\n",
       "    </tr>\n",
       "    <tr>\n",
       "      <th>1.692526e+09</th>\n",
       "      <td>0 days 00:49:53.970618</td>\n",
       "    </tr>\n",
       "    <tr>\n",
       "      <th>...</th>\n",
       "      <td>...</td>\n",
       "    </tr>\n",
       "    <tr>\n",
       "      <th>1.704053e+09</th>\n",
       "      <td>0 days 00:00:12.624997</td>\n",
       "    </tr>\n",
       "    <tr>\n",
       "      <th>1.704053e+09</th>\n",
       "      <td>0 days 00:00:08.515004</td>\n",
       "    </tr>\n",
       "    <tr>\n",
       "      <th>1.704104e+09</th>\n",
       "      <td>0 days 00:01:42.876923</td>\n",
       "    </tr>\n",
       "    <tr>\n",
       "      <th>1.704964e+09</th>\n",
       "      <td>0 days 00:00:00</td>\n",
       "    </tr>\n",
       "    <tr>\n",
       "      <th>1.709424e+09</th>\n",
       "      <td>0 days 00:00:00</td>\n",
       "    </tr>\n",
       "  </tbody>\n",
       "</table>\n",
       "<p>569934 rows × 1 columns</p>\n",
       "</div>"
      ],
      "text/plain": [
       "                          time_spent\n",
       "ga_session_id                       \n",
       "4.312000e+03  0 days 00:00:13.746993\n",
       "1.681589e+09  0 days 00:06:55.452420\n",
       "1.684921e+09  0 days 00:00:08.549011\n",
       "1.687199e+09  0 days 00:05:02.866342\n",
       "1.692526e+09  0 days 00:49:53.970618\n",
       "...                              ...\n",
       "1.704053e+09  0 days 00:00:12.624997\n",
       "1.704053e+09  0 days 00:00:08.515004\n",
       "1.704104e+09  0 days 00:01:42.876923\n",
       "1.704964e+09         0 days 00:00:00\n",
       "1.709424e+09         0 days 00:00:00\n",
       "\n",
       "[569934 rows x 1 columns]"
      ]
     },
     "execution_count": 54,
     "metadata": {},
     "output_type": "execute_result"
    }
   ],
   "source": [
    "time_spent_by_session[['time_spent']]"
   ]
  },
  {
   "cell_type": "code",
   "execution_count": 55,
   "id": "0438dc72",
   "metadata": {},
   "outputs": [
    {
     "data": {
      "text/html": [
       "<div>\n",
       "<style scoped>\n",
       "    .dataframe tbody tr th:only-of-type {\n",
       "        vertical-align: middle;\n",
       "    }\n",
       "\n",
       "    .dataframe tbody tr th {\n",
       "        vertical-align: top;\n",
       "    }\n",
       "\n",
       "    .dataframe thead th {\n",
       "        text-align: right;\n",
       "    }\n",
       "</style>\n",
       "<table border=\"1\" class=\"dataframe\">\n",
       "  <thead>\n",
       "    <tr style=\"text-align: right;\">\n",
       "      <th></th>\n",
       "      <th>session_start_time</th>\n",
       "      <th>session_end_time</th>\n",
       "      <th>time_spent</th>\n",
       "    </tr>\n",
       "    <tr>\n",
       "      <th>ga_session_id</th>\n",
       "      <th></th>\n",
       "      <th></th>\n",
       "      <th></th>\n",
       "    </tr>\n",
       "  </thead>\n",
       "  <tbody>\n",
       "    <tr>\n",
       "      <th>1.704023e+09</th>\n",
       "      <td>2023-12-31 11:50:56.724441</td>\n",
       "      <td>2024-01-30 12:12:12.992216</td>\n",
       "      <td>30 days 00:21:16.267775</td>\n",
       "    </tr>\n",
       "    <tr>\n",
       "      <th>1.701765e+09</th>\n",
       "      <td>2023-12-05 08:26:14.084334</td>\n",
       "      <td>2023-12-26 13:27:36.159255</td>\n",
       "      <td>21 days 05:01:22.074921</td>\n",
       "    </tr>\n",
       "    <tr>\n",
       "      <th>1.701583e+09</th>\n",
       "      <td>2023-12-03 05:58:40.447030</td>\n",
       "      <td>2023-12-21 06:18:25.812027</td>\n",
       "      <td>18 days 00:19:45.364997</td>\n",
       "    </tr>\n",
       "    <tr>\n",
       "      <th>1.700605e+09</th>\n",
       "      <td>2023-11-30 20:05:05.620973</td>\n",
       "      <td>2023-12-17 22:40:39.915017</td>\n",
       "      <td>17 days 02:35:34.294044</td>\n",
       "    </tr>\n",
       "    <tr>\n",
       "      <th>1.702315e+09</th>\n",
       "      <td>2023-12-11 17:20:34.758586</td>\n",
       "      <td>2023-12-26 19:56:48.126146</td>\n",
       "      <td>15 days 02:36:13.367560</td>\n",
       "    </tr>\n",
       "    <tr>\n",
       "      <th>...</th>\n",
       "      <td>...</td>\n",
       "      <td>...</td>\n",
       "      <td>...</td>\n",
       "    </tr>\n",
       "    <tr>\n",
       "      <th>1.702478e+09</th>\n",
       "      <td>2023-12-13 14:41:48.439625</td>\n",
       "      <td>2023-12-13 14:41:48.439625</td>\n",
       "      <td>0 days 00:00:00</td>\n",
       "    </tr>\n",
       "    <tr>\n",
       "      <th>1.702479e+09</th>\n",
       "      <td>2023-12-13 14:44:26.548828</td>\n",
       "      <td>2023-12-13 14:44:26.548828</td>\n",
       "      <td>0 days 00:00:00</td>\n",
       "    </tr>\n",
       "    <tr>\n",
       "      <th>1.703752e+09</th>\n",
       "      <td>2023-12-28 08:27:58.954170</td>\n",
       "      <td>2023-12-28 08:27:58.954170</td>\n",
       "      <td>0 days 00:00:00</td>\n",
       "    </tr>\n",
       "    <tr>\n",
       "      <th>1.702479e+09</th>\n",
       "      <td>2023-12-13 14:48:58.031646</td>\n",
       "      <td>2023-12-13 14:48:58.031646</td>\n",
       "      <td>0 days 00:00:00</td>\n",
       "    </tr>\n",
       "    <tr>\n",
       "      <th>1.709424e+09</th>\n",
       "      <td>2023-12-21 12:37:47.220239</td>\n",
       "      <td>2023-12-21 12:37:47.220239</td>\n",
       "      <td>0 days 00:00:00</td>\n",
       "    </tr>\n",
       "  </tbody>\n",
       "</table>\n",
       "<p>569934 rows × 3 columns</p>\n",
       "</div>"
      ],
      "text/plain": [
       "                      session_start_time           session_end_time  \\\n",
       "ga_session_id                                                         \n",
       "1.704023e+09  2023-12-31 11:50:56.724441 2024-01-30 12:12:12.992216   \n",
       "1.701765e+09  2023-12-05 08:26:14.084334 2023-12-26 13:27:36.159255   \n",
       "1.701583e+09  2023-12-03 05:58:40.447030 2023-12-21 06:18:25.812027   \n",
       "1.700605e+09  2023-11-30 20:05:05.620973 2023-12-17 22:40:39.915017   \n",
       "1.702315e+09  2023-12-11 17:20:34.758586 2023-12-26 19:56:48.126146   \n",
       "...                                  ...                        ...   \n",
       "1.702478e+09  2023-12-13 14:41:48.439625 2023-12-13 14:41:48.439625   \n",
       "1.702479e+09  2023-12-13 14:44:26.548828 2023-12-13 14:44:26.548828   \n",
       "1.703752e+09  2023-12-28 08:27:58.954170 2023-12-28 08:27:58.954170   \n",
       "1.702479e+09  2023-12-13 14:48:58.031646 2023-12-13 14:48:58.031646   \n",
       "1.709424e+09  2023-12-21 12:37:47.220239 2023-12-21 12:37:47.220239   \n",
       "\n",
       "                           time_spent  \n",
       "ga_session_id                          \n",
       "1.704023e+09  30 days 00:21:16.267775  \n",
       "1.701765e+09  21 days 05:01:22.074921  \n",
       "1.701583e+09  18 days 00:19:45.364997  \n",
       "1.700605e+09  17 days 02:35:34.294044  \n",
       "1.702315e+09  15 days 02:36:13.367560  \n",
       "...                               ...  \n",
       "1.702478e+09          0 days 00:00:00  \n",
       "1.702479e+09          0 days 00:00:00  \n",
       "1.703752e+09          0 days 00:00:00  \n",
       "1.702479e+09          0 days 00:00:00  \n",
       "1.709424e+09          0 days 00:00:00  \n",
       "\n",
       "[569934 rows x 3 columns]"
      ]
     },
     "execution_count": 55,
     "metadata": {},
     "output_type": "execute_result"
    }
   ],
   "source": [
    "time_spent_by_session.sort_values(by='time_spent', ascending=False)"
   ]
  },
  {
   "cell_type": "code",
   "execution_count": 56,
   "id": "e62958fe",
   "metadata": {},
   "outputs": [],
   "source": [
    "Avg_time_spent = time_spent_by_session.agg(\n",
    "    avg_time_spent=('time_spent', 'mean'),\n",
    "    median_time_spent=('time_spent', np.median)\n",
    ")"
   ]
  },
  {
   "cell_type": "code",
   "execution_count": 57,
   "id": "9d5aabca",
   "metadata": {},
   "outputs": [
    {
     "data": {
      "text/html": [
       "<div>\n",
       "<style scoped>\n",
       "    .dataframe tbody tr th:only-of-type {\n",
       "        vertical-align: middle;\n",
       "    }\n",
       "\n",
       "    .dataframe tbody tr th {\n",
       "        vertical-align: top;\n",
       "    }\n",
       "\n",
       "    .dataframe thead th {\n",
       "        text-align: right;\n",
       "    }\n",
       "</style>\n",
       "<table border=\"1\" class=\"dataframe\">\n",
       "  <thead>\n",
       "    <tr style=\"text-align: right;\">\n",
       "      <th></th>\n",
       "      <th>time_spent</th>\n",
       "    </tr>\n",
       "  </thead>\n",
       "  <tbody>\n",
       "    <tr>\n",
       "      <th>avg_time_spent</th>\n",
       "      <td>0 days 00:09:49.073090578</td>\n",
       "    </tr>\n",
       "    <tr>\n",
       "      <th>median_time_spent</th>\n",
       "      <td>0 days 00:01:28.967759</td>\n",
       "    </tr>\n",
       "  </tbody>\n",
       "</table>\n",
       "</div>"
      ],
      "text/plain": [
       "                                 time_spent\n",
       "avg_time_spent    0 days 00:09:49.073090578\n",
       "median_time_spent    0 days 00:01:28.967759"
      ]
     },
     "execution_count": 57,
     "metadata": {},
     "output_type": "execute_result"
    }
   ],
   "source": [
    "Avg_time_spent"
   ]
  },
  {
   "cell_type": "code",
   "execution_count": 58,
   "id": "9c5bb453",
   "metadata": {},
   "outputs": [
    {
     "name": "stdout",
     "output_type": "stream",
     "text": [
      "Requirement already satisfied: prettytable in /Users/ulduz/opt/anaconda3/lib/python3.9/site-packages (3.9.0)\n",
      "Requirement already satisfied: wcwidth in /Users/ulduz/opt/anaconda3/lib/python3.9/site-packages (from prettytable) (0.2.5)\n",
      "Note: you may need to restart the kernel to use updated packages.\n"
     ]
    }
   ],
   "source": [
    "pip install prettytable"
   ]
  },
  {
   "cell_type": "code",
   "execution_count": 59,
   "id": "878a6a0e",
   "metadata": {},
   "outputs": [
    {
     "name": "stdout",
     "output_type": "stream",
     "text": [
      "+--------------------+--------------+\n",
      "|       Label        |     Time     |\n",
      "+--------------------+--------------+\n",
      "| Average Time Spent | 9.49 minutes |\n",
      "| Median Time Spent  | 1.28 minutes |\n",
      "+--------------------+--------------+\n"
     ]
    }
   ],
   "source": [
    "from prettytable import PrettyTable\n",
    "time_spent_by_session['time_spent_minutes'] = time_spent_by_session['time_spent'].dt.total_seconds() / 60.0\n",
    "table = PrettyTable()\n",
    "table.field_names = [\"Label\", \"Time\"]\n",
    "table.add_row([\"Average Time Spent\", f\"9.49 minutes\"])\n",
    "table.add_row([\"Median Time Spent\", f\"1.28 minutes\"])\n",
    "print(table)"
   ]
  },
  {
   "cell_type": "markdown",
   "id": "4497e470",
   "metadata": {},
   "source": [
    "We can see from the table Avarage Time Spent is **9.49 minutes** for our app. In 2022 statistics Avarage Time Spent for the fintech apps is the 7.43 minutes to 6.06 minutes it means we can keep our clients on our app.\n",
    "But for the outliers we can choose Median Time Spent (**1.28 minutes**) then it means we need more futures to keep our clients on our app.\n"
   ]
  },
  {
   "cell_type": "markdown",
   "id": "a855abcd",
   "metadata": {},
   "source": [
    "## Most International Transfer and Cash relative Operations Systems"
   ]
  },
  {
   "cell_type": "code",
   "execution_count": 60,
   "id": "78704a5e",
   "metadata": {},
   "outputs": [],
   "source": [
    "international_transfers = main_data[main_data['event_name'] == 'click_crossboarder_cart']"
   ]
  },
  {
   "cell_type": "code",
   "execution_count": 61,
   "id": "25ffc302",
   "metadata": {},
   "outputs": [],
   "source": [
    "total_users_per_OS = international_transfers.groupby('operating_system')['user_pseudo_id'].nunique()"
   ]
  },
  {
   "cell_type": "code",
   "execution_count": 62,
   "id": "bc25c490",
   "metadata": {},
   "outputs": [
    {
     "data": {
      "text/plain": [
       "operating_system\n",
       "Android    6790\n",
       "iOS        1226\n",
       "Name: user_pseudo_id, dtype: int64"
      ]
     },
     "execution_count": 62,
     "metadata": {},
     "output_type": "execute_result"
    }
   ],
   "source": [
    "total_users_per_OS"
   ]
  },
  {
   "cell_type": "code",
   "execution_count": 63,
   "id": "2140e5b2",
   "metadata": {},
   "outputs": [
    {
     "data": {
      "text/plain": [
       "Android    15697\n",
       "iOS         1761\n",
       "Name: operating_system, dtype: int64"
      ]
     },
     "execution_count": 63,
     "metadata": {},
     "output_type": "execute_result"
    }
   ],
   "source": [
    "international_transfers['operating_system'].value_counts()"
   ]
  },
  {
   "cell_type": "code",
   "execution_count": 64,
   "id": "0350f447",
   "metadata": {},
   "outputs": [],
   "source": [
    "int_transfers_OS = total_users_per_OS/international_transfers['operating_system'].value_counts()"
   ]
  },
  {
   "cell_type": "code",
   "execution_count": 65,
   "id": "8b318a13",
   "metadata": {},
   "outputs": [
    {
     "data": {
      "text/plain": [
       "operating_system\n",
       "Android    0.432567\n",
       "iOS        0.696195\n",
       "dtype: float64"
      ]
     },
     "execution_count": 65,
     "metadata": {},
     "output_type": "execute_result"
    }
   ],
   "source": [
    "int_transfers_OS"
   ]
  },
  {
   "cell_type": "code",
   "execution_count": 66,
   "id": "10713868",
   "metadata": {},
   "outputs": [
    {
     "data": {
      "image/png": "[encoded data removed]",
      "text/plain": [
       "<Figure size 576x576 with 1 Axes>"
      ]
     },
     "metadata": {},
     "output_type": "display_data"
    }
   ],
   "source": [
    "plt.figure(figsize=(8, 8))\n",
    "plt.pie(int_transfers_OS, labels=int_transfers_OS.index, autopct='%1.1f%%', startangle=90, colors=sns.color_palette('pastel'))\n",
    "plt.title('Operating System Distribution for International Transactions')\n",
    "plt.show()"
   ]
  },
  {
   "cell_type": "code",
   "execution_count": 67,
   "id": "ae8c752a",
   "metadata": {},
   "outputs": [],
   "source": [
    "cash_transaction_events = ['click_top_up_cash', 'click_withdraw']\n",
    "cash_transaction_data = main_data[main_data['event_name'].isin(cash_transaction_events)]"
   ]
  },
  {
   "cell_type": "code",
   "execution_count": 68,
   "id": "5e78f1ae",
   "metadata": {},
   "outputs": [],
   "source": [
    "cash_OS =cash_transaction_data.groupby('operating_system')['user_pseudo_id'].nunique()"
   ]
  },
  {
   "cell_type": "code",
   "execution_count": 69,
   "id": "0050aabc",
   "metadata": {},
   "outputs": [
    {
     "data": {
      "text/plain": [
       "operating_system\n",
       "Android    13152\n",
       "iOS         3331\n",
       "Name: user_pseudo_id, dtype: int64"
      ]
     },
     "execution_count": 69,
     "metadata": {},
     "output_type": "execute_result"
    }
   ],
   "source": [
    "cash_OS"
   ]
  },
  {
   "cell_type": "code",
   "execution_count": 70,
   "id": "27f79146",
   "metadata": {},
   "outputs": [],
   "source": [
    "CASH_OS = cash_transaction_data['operating_system'].value_counts()"
   ]
  },
  {
   "cell_type": "code",
   "execution_count": 71,
   "id": "aa223bd8",
   "metadata": {},
   "outputs": [
    {
     "data": {
      "text/plain": [
       "Android    28249\n",
       "iOS         6271\n",
       "Name: operating_system, dtype: int64"
      ]
     },
     "execution_count": 71,
     "metadata": {},
     "output_type": "execute_result"
    }
   ],
   "source": [
    "CASH_OS"
   ]
  },
  {
   "cell_type": "code",
   "execution_count": 72,
   "id": "67de0801",
   "metadata": {},
   "outputs": [],
   "source": [
    "cash_preferences = cash_OS / CASH_OS"
   ]
  },
  {
   "cell_type": "code",
   "execution_count": 73,
   "id": "8854adf4",
   "metadata": {},
   "outputs": [
    {
     "data": {
      "text/plain": [
       "operating_system\n",
       "Android    0.465574\n",
       "iOS        0.531175\n",
       "dtype: float64"
      ]
     },
     "execution_count": 73,
     "metadata": {},
     "output_type": "execute_result"
    }
   ],
   "source": [
    "cash_preferences"
   ]
  },
  {
   "cell_type": "code",
   "execution_count": 74,
   "id": "051e935c",
   "metadata": {},
   "outputs": [
    {
     "name": "stderr",
     "output_type": "stream",
     "text": [
      "/var/folders/b2/cth_5d555rz81434nv9cv3fw0000gn/T/ipykernel_25446/291042903.py:2: MatplotlibDeprecationWarning: normalize=None does not normalize if the sum is less than 1 but this behavior is deprecated since 3.3 until two minor releases later. After the deprecation period the default value will be normalize=True. To prevent normalization pass normalize=False \n",
      "  plt.pie(cash_preferences, labels=cash_preferences.index, autopct='%1.1f%%', startangle=140, colors=['skyblue', 'lightcoral', 'lightgreen', 'lightsalmon'])\n"
     ]
    },
    {
     "data": {
      "image/png": "[encoded data removed]",
      "text/plain": [
       "<Figure size 576x576 with 1 Axes>"
      ]
     },
     "metadata": {},
     "output_type": "display_data"
    }
   ],
   "source": [
    "plt.figure(figsize=(8, 8))\n",
    "plt.pie(cash_preferences, labels=cash_preferences.index, autopct='%1.1f%%', startangle=140, colors=['skyblue', 'lightcoral', 'lightgreen', 'lightsalmon'])\n",
    "plt.title('Cash Transaction Preferences by Operating System')\n",
    "plt.show()"
   ]
  },
  {
   "cell_type": "markdown",
   "id": "f45957f0",
   "metadata": {},
   "source": [
    "## Which time of day  we have most unique users"
   ]
  },
  {
   "cell_type": "code",
   "execution_count": 75,
   "id": "d1ebac10",
   "metadata": {},
   "outputs": [],
   "source": [
    "user_count_by_hour = main_data.groupby('time_of_day')['user_pseudo_id'].nunique().sort_index().reset_index()"
   ]
  },
  {
   "cell_type": "code",
   "execution_count": 76,
   "id": "a42396fe",
   "metadata": {},
   "outputs": [],
   "source": [
    "user_count_by_hour.columns = ['Hour', 'Unique Users Count']"
   ]
  },
  {
   "cell_type": "code",
   "execution_count": 77,
   "id": "68ae4c2a",
   "metadata": {},
   "outputs": [
    {
     "data": {
      "text/html": [
       "<div>\n",
       "<style scoped>\n",
       "    .dataframe tbody tr th:only-of-type {\n",
       "        vertical-align: middle;\n",
       "    }\n",
       "\n",
       "    .dataframe tbody tr th {\n",
       "        vertical-align: top;\n",
       "    }\n",
       "\n",
       "    .dataframe thead th {\n",
       "        text-align: right;\n",
       "    }\n",
       "</style>\n",
       "<table border=\"1\" class=\"dataframe\">\n",
       "  <thead>\n",
       "    <tr style=\"text-align: right;\">\n",
       "      <th></th>\n",
       "      <th>Hour</th>\n",
       "      <th>Unique Users Count</th>\n",
       "    </tr>\n",
       "  </thead>\n",
       "  <tbody>\n",
       "    <tr>\n",
       "      <th>0</th>\n",
       "      <td>00</td>\n",
       "      <td>2611</td>\n",
       "    </tr>\n",
       "    <tr>\n",
       "      <th>1</th>\n",
       "      <td>01</td>\n",
       "      <td>2334</td>\n",
       "    </tr>\n",
       "    <tr>\n",
       "      <th>2</th>\n",
       "      <td>02</td>\n",
       "      <td>3407</td>\n",
       "    </tr>\n",
       "    <tr>\n",
       "      <th>3</th>\n",
       "      <td>03</td>\n",
       "      <td>6311</td>\n",
       "    </tr>\n",
       "    <tr>\n",
       "      <th>4</th>\n",
       "      <td>04</td>\n",
       "      <td>9414</td>\n",
       "    </tr>\n",
       "    <tr>\n",
       "      <th>5</th>\n",
       "      <td>05</td>\n",
       "      <td>13080</td>\n",
       "    </tr>\n",
       "    <tr>\n",
       "      <th>6</th>\n",
       "      <td>06</td>\n",
       "      <td>16317</td>\n",
       "    </tr>\n",
       "    <tr>\n",
       "      <th>7</th>\n",
       "      <td>07</td>\n",
       "      <td>18151</td>\n",
       "    </tr>\n",
       "    <tr>\n",
       "      <th>8</th>\n",
       "      <td>08</td>\n",
       "      <td>20377</td>\n",
       "    </tr>\n",
       "    <tr>\n",
       "      <th>9</th>\n",
       "      <td>09</td>\n",
       "      <td>21180</td>\n",
       "    </tr>\n",
       "    <tr>\n",
       "      <th>10</th>\n",
       "      <td>10</td>\n",
       "      <td>20884</td>\n",
       "    </tr>\n",
       "    <tr>\n",
       "      <th>11</th>\n",
       "      <td>11</td>\n",
       "      <td>20203</td>\n",
       "    </tr>\n",
       "    <tr>\n",
       "      <th>12</th>\n",
       "      <td>12</td>\n",
       "      <td>20716</td>\n",
       "    </tr>\n",
       "    <tr>\n",
       "      <th>13</th>\n",
       "      <td>13</td>\n",
       "      <td>21284</td>\n",
       "    </tr>\n",
       "    <tr>\n",
       "      <th>14</th>\n",
       "      <td>14</td>\n",
       "      <td>22309</td>\n",
       "    </tr>\n",
       "    <tr>\n",
       "      <th>15</th>\n",
       "      <td>15</td>\n",
       "      <td>22339</td>\n",
       "    </tr>\n",
       "    <tr>\n",
       "      <th>16</th>\n",
       "      <td>16</td>\n",
       "      <td>22341</td>\n",
       "    </tr>\n",
       "    <tr>\n",
       "      <th>17</th>\n",
       "      <td>17</td>\n",
       "      <td>21687</td>\n",
       "    </tr>\n",
       "    <tr>\n",
       "      <th>18</th>\n",
       "      <td>18</td>\n",
       "      <td>20159</td>\n",
       "    </tr>\n",
       "    <tr>\n",
       "      <th>19</th>\n",
       "      <td>19</td>\n",
       "      <td>17625</td>\n",
       "    </tr>\n",
       "    <tr>\n",
       "      <th>20</th>\n",
       "      <td>20</td>\n",
       "      <td>14182</td>\n",
       "    </tr>\n",
       "    <tr>\n",
       "      <th>21</th>\n",
       "      <td>21</td>\n",
       "      <td>9585</td>\n",
       "    </tr>\n",
       "    <tr>\n",
       "      <th>22</th>\n",
       "      <td>22</td>\n",
       "      <td>6233</td>\n",
       "    </tr>\n",
       "    <tr>\n",
       "      <th>23</th>\n",
       "      <td>23</td>\n",
       "      <td>3856</td>\n",
       "    </tr>\n",
       "  </tbody>\n",
       "</table>\n",
       "</div>"
      ],
      "text/plain": [
       "   Hour  Unique Users Count\n",
       "0    00                2611\n",
       "1    01                2334\n",
       "2    02                3407\n",
       "3    03                6311\n",
       "4    04                9414\n",
       "5    05               13080\n",
       "6    06               16317\n",
       "7    07               18151\n",
       "8    08               20377\n",
       "9    09               21180\n",
       "10   10               20884\n",
       "11   11               20203\n",
       "12   12               20716\n",
       "13   13               21284\n",
       "14   14               22309\n",
       "15   15               22339\n",
       "16   16               22341\n",
       "17   17               21687\n",
       "18   18               20159\n",
       "19   19               17625\n",
       "20   20               14182\n",
       "21   21                9585\n",
       "22   22                6233\n",
       "23   23                3856"
      ]
     },
     "execution_count": 77,
     "metadata": {},
     "output_type": "execute_result"
    }
   ],
   "source": [
    "user_count_by_hour"
   ]
  },
  {
   "cell_type": "code",
   "execution_count": 78,
   "id": "cde6272f",
   "metadata": {},
   "outputs": [
    {
     "data": {
      "image/png": "[encoded data removed]",
      "text/plain": [
       "<Figure size 864x576 with 1 Axes>"
      ]
     },
     "metadata": {},
     "output_type": "display_data"
    }
   ],
   "source": [
    "sns.set(style=\"whitegrid\")\n",
    "\n",
    "\n",
    "plt.figure(figsize=(12, 8))\n",
    "sns.lineplot(x='Hour', y='Unique Users Count', data=user_count_by_hour, marker='o', color='green')\n",
    "plt.title(\"Unique Users' Activity Across Hours\")\n",
    "plt.xlabel('Hour of the Day')\n",
    "plt.ylabel('Unique Users Count')\n",
    "\n",
    "plt.show()"
   ]
  },
  {
   "cell_type": "markdown",
   "id": "92e19653",
   "metadata": {},
   "source": [
    "## Which short time we have most users "
   ]
  },
  {
   "cell_type": "code",
   "execution_count": 79,
   "id": "c1fd9226",
   "metadata": {},
   "outputs": [],
   "source": [
    "weekday_order = list(calendar.day_name)\n",
    "\n",
    "\n",
    "main_data['time_of_day'] = pd.Categorical(main_data['time_of_day'], categories=[str(i) for i in range(24)], ordered=True)"
   ]
  },
  {
   "cell_type": "code",
   "execution_count": 80,
   "id": "dcdb6ef7",
   "metadata": {},
   "outputs": [],
   "source": [
    "user_hourly_weekday = main_data.groupby(['weekday', 'time_of_day'])['user_pseudo_id'].nunique().reset_index()"
   ]
  },
  {
   "cell_type": "code",
   "execution_count": 81,
   "id": "1ebe3d4d",
   "metadata": {},
   "outputs": [],
   "source": [
    "heatmap_data = user_hourly_weekday.pivot(index='time_of_day', columns='weekday', values='user_pseudo_id').fillna(0)\n",
    "heatmap_data = heatmap_data[weekday_order].sort_values(by=heatmap_data.columns[-1], ascending=False)"
   ]
  },
  {
   "cell_type": "code",
   "execution_count": 82,
   "id": "8fb00fa2",
   "metadata": {},
   "outputs": [
    {
     "data": {
      "text/html": [
       "<div>\n",
       "<style scoped>\n",
       "    .dataframe tbody tr th:only-of-type {\n",
       "        vertical-align: middle;\n",
       "    }\n",
       "\n",
       "    .dataframe tbody tr th {\n",
       "        vertical-align: top;\n",
       "    }\n",
       "\n",
       "    .dataframe thead th {\n",
       "        text-align: right;\n",
       "    }\n",
       "</style>\n",
       "<table border=\"1\" class=\"dataframe\">\n",
       "  <thead>\n",
       "    <tr style=\"text-align: right;\">\n",
       "      <th>weekday</th>\n",
       "      <th>Monday</th>\n",
       "      <th>Tuesday</th>\n",
       "      <th>Wednesday</th>\n",
       "      <th>Thursday</th>\n",
       "      <th>Friday</th>\n",
       "      <th>Saturday</th>\n",
       "      <th>Sunday</th>\n",
       "    </tr>\n",
       "    <tr>\n",
       "      <th>time_of_day</th>\n",
       "      <th></th>\n",
       "      <th></th>\n",
       "      <th></th>\n",
       "      <th></th>\n",
       "      <th></th>\n",
       "      <th></th>\n",
       "      <th></th>\n",
       "    </tr>\n",
       "  </thead>\n",
       "  <tbody>\n",
       "    <tr>\n",
       "      <th>15</th>\n",
       "      <td>5401</td>\n",
       "      <td>5422</td>\n",
       "      <td>5597</td>\n",
       "      <td>5945</td>\n",
       "      <td>6782</td>\n",
       "      <td>6318</td>\n",
       "      <td>5864</td>\n",
       "    </tr>\n",
       "    <tr>\n",
       "      <th>14</th>\n",
       "      <td>5236</td>\n",
       "      <td>5320</td>\n",
       "      <td>5437</td>\n",
       "      <td>6220</td>\n",
       "      <td>6738</td>\n",
       "      <td>6531</td>\n",
       "      <td>5813</td>\n",
       "    </tr>\n",
       "    <tr>\n",
       "      <th>16</th>\n",
       "      <td>5234</td>\n",
       "      <td>5316</td>\n",
       "      <td>5361</td>\n",
       "      <td>5789</td>\n",
       "      <td>6866</td>\n",
       "      <td>6373</td>\n",
       "      <td>5676</td>\n",
       "    </tr>\n",
       "    <tr>\n",
       "      <th>13</th>\n",
       "      <td>4961</td>\n",
       "      <td>4837</td>\n",
       "      <td>5123</td>\n",
       "      <td>5498</td>\n",
       "      <td>6269</td>\n",
       "      <td>6222</td>\n",
       "      <td>5919</td>\n",
       "    </tr>\n",
       "    <tr>\n",
       "      <th>17</th>\n",
       "      <td>4985</td>\n",
       "      <td>4991</td>\n",
       "      <td>5101</td>\n",
       "      <td>5531</td>\n",
       "      <td>6650</td>\n",
       "      <td>6086</td>\n",
       "      <td>5310</td>\n",
       "    </tr>\n",
       "    <tr>\n",
       "      <th>12</th>\n",
       "      <td>4934</td>\n",
       "      <td>4627</td>\n",
       "      <td>4952</td>\n",
       "      <td>5038</td>\n",
       "      <td>6071</td>\n",
       "      <td>6137</td>\n",
       "      <td>5744</td>\n",
       "    </tr>\n",
       "    <tr>\n",
       "      <th>10</th>\n",
       "      <td>4672</td>\n",
       "      <td>4594</td>\n",
       "      <td>4738</td>\n",
       "      <td>4907</td>\n",
       "      <td>6027</td>\n",
       "      <td>6587</td>\n",
       "      <td>5857</td>\n",
       "    </tr>\n",
       "    <tr>\n",
       "      <th>11</th>\n",
       "      <td>4559</td>\n",
       "      <td>4513</td>\n",
       "      <td>4667</td>\n",
       "      <td>4786</td>\n",
       "      <td>5747</td>\n",
       "      <td>6096</td>\n",
       "      <td>5698</td>\n",
       "    </tr>\n",
       "    <tr>\n",
       "      <th>18</th>\n",
       "      <td>4520</td>\n",
       "      <td>4597</td>\n",
       "      <td>4604</td>\n",
       "      <td>4996</td>\n",
       "      <td>6014</td>\n",
       "      <td>5585</td>\n",
       "      <td>4963</td>\n",
       "    </tr>\n",
       "    <tr>\n",
       "      <th>19</th>\n",
       "      <td>3701</td>\n",
       "      <td>3931</td>\n",
       "      <td>4075</td>\n",
       "      <td>4213</td>\n",
       "      <td>5230</td>\n",
       "      <td>4811</td>\n",
       "      <td>4289</td>\n",
       "    </tr>\n",
       "    <tr>\n",
       "      <th>20</th>\n",
       "      <td>3091</td>\n",
       "      <td>3008</td>\n",
       "      <td>3060</td>\n",
       "      <td>4047</td>\n",
       "      <td>4012</td>\n",
       "      <td>4040</td>\n",
       "      <td>2974</td>\n",
       "    </tr>\n",
       "    <tr>\n",
       "      <th>21</th>\n",
       "      <td>1883</td>\n",
       "      <td>1893</td>\n",
       "      <td>2098</td>\n",
       "      <td>2658</td>\n",
       "      <td>2807</td>\n",
       "      <td>2629</td>\n",
       "      <td>1898</td>\n",
       "    </tr>\n",
       "    <tr>\n",
       "      <th>22</th>\n",
       "      <td>1143</td>\n",
       "      <td>1246</td>\n",
       "      <td>1306</td>\n",
       "      <td>1591</td>\n",
       "      <td>1743</td>\n",
       "      <td>1874</td>\n",
       "      <td>1137</td>\n",
       "    </tr>\n",
       "    <tr>\n",
       "      <th>23</th>\n",
       "      <td>663</td>\n",
       "      <td>757</td>\n",
       "      <td>790</td>\n",
       "      <td>924</td>\n",
       "      <td>1036</td>\n",
       "      <td>1113</td>\n",
       "      <td>730</td>\n",
       "    </tr>\n",
       "    <tr>\n",
       "      <th>1</th>\n",
       "      <td>0</td>\n",
       "      <td>0</td>\n",
       "      <td>0</td>\n",
       "      <td>0</td>\n",
       "      <td>0</td>\n",
       "      <td>0</td>\n",
       "      <td>0</td>\n",
       "    </tr>\n",
       "    <tr>\n",
       "      <th>9</th>\n",
       "      <td>0</td>\n",
       "      <td>0</td>\n",
       "      <td>0</td>\n",
       "      <td>0</td>\n",
       "      <td>0</td>\n",
       "      <td>0</td>\n",
       "      <td>0</td>\n",
       "    </tr>\n",
       "    <tr>\n",
       "      <th>8</th>\n",
       "      <td>0</td>\n",
       "      <td>0</td>\n",
       "      <td>0</td>\n",
       "      <td>0</td>\n",
       "      <td>0</td>\n",
       "      <td>0</td>\n",
       "      <td>0</td>\n",
       "    </tr>\n",
       "    <tr>\n",
       "      <th>7</th>\n",
       "      <td>0</td>\n",
       "      <td>0</td>\n",
       "      <td>0</td>\n",
       "      <td>0</td>\n",
       "      <td>0</td>\n",
       "      <td>0</td>\n",
       "      <td>0</td>\n",
       "    </tr>\n",
       "    <tr>\n",
       "      <th>6</th>\n",
       "      <td>0</td>\n",
       "      <td>0</td>\n",
       "      <td>0</td>\n",
       "      <td>0</td>\n",
       "      <td>0</td>\n",
       "      <td>0</td>\n",
       "      <td>0</td>\n",
       "    </tr>\n",
       "    <tr>\n",
       "      <th>5</th>\n",
       "      <td>0</td>\n",
       "      <td>0</td>\n",
       "      <td>0</td>\n",
       "      <td>0</td>\n",
       "      <td>0</td>\n",
       "      <td>0</td>\n",
       "      <td>0</td>\n",
       "    </tr>\n",
       "    <tr>\n",
       "      <th>4</th>\n",
       "      <td>0</td>\n",
       "      <td>0</td>\n",
       "      <td>0</td>\n",
       "      <td>0</td>\n",
       "      <td>0</td>\n",
       "      <td>0</td>\n",
       "      <td>0</td>\n",
       "    </tr>\n",
       "    <tr>\n",
       "      <th>3</th>\n",
       "      <td>0</td>\n",
       "      <td>0</td>\n",
       "      <td>0</td>\n",
       "      <td>0</td>\n",
       "      <td>0</td>\n",
       "      <td>0</td>\n",
       "      <td>0</td>\n",
       "    </tr>\n",
       "    <tr>\n",
       "      <th>2</th>\n",
       "      <td>0</td>\n",
       "      <td>0</td>\n",
       "      <td>0</td>\n",
       "      <td>0</td>\n",
       "      <td>0</td>\n",
       "      <td>0</td>\n",
       "      <td>0</td>\n",
       "    </tr>\n",
       "    <tr>\n",
       "      <th>0</th>\n",
       "      <td>0</td>\n",
       "      <td>0</td>\n",
       "      <td>0</td>\n",
       "      <td>0</td>\n",
       "      <td>0</td>\n",
       "      <td>0</td>\n",
       "      <td>0</td>\n",
       "    </tr>\n",
       "  </tbody>\n",
       "</table>\n",
       "</div>"
      ],
      "text/plain": [
       "weekday      Monday  Tuesday  Wednesday  Thursday  Friday  Saturday  Sunday\n",
       "time_of_day                                                                \n",
       "15             5401     5422       5597      5945    6782      6318    5864\n",
       "14             5236     5320       5437      6220    6738      6531    5813\n",
       "16             5234     5316       5361      5789    6866      6373    5676\n",
       "13             4961     4837       5123      5498    6269      6222    5919\n",
       "17             4985     4991       5101      5531    6650      6086    5310\n",
       "12             4934     4627       4952      5038    6071      6137    5744\n",
       "10             4672     4594       4738      4907    6027      6587    5857\n",
       "11             4559     4513       4667      4786    5747      6096    5698\n",
       "18             4520     4597       4604      4996    6014      5585    4963\n",
       "19             3701     3931       4075      4213    5230      4811    4289\n",
       "20             3091     3008       3060      4047    4012      4040    2974\n",
       "21             1883     1893       2098      2658    2807      2629    1898\n",
       "22             1143     1246       1306      1591    1743      1874    1137\n",
       "23              663      757        790       924    1036      1113     730\n",
       "1                 0        0          0         0       0         0       0\n",
       "9                 0        0          0         0       0         0       0\n",
       "8                 0        0          0         0       0         0       0\n",
       "7                 0        0          0         0       0         0       0\n",
       "6                 0        0          0         0       0         0       0\n",
       "5                 0        0          0         0       0         0       0\n",
       "4                 0        0          0         0       0         0       0\n",
       "3                 0        0          0         0       0         0       0\n",
       "2                 0        0          0         0       0         0       0\n",
       "0                 0        0          0         0       0         0       0"
      ]
     },
     "execution_count": 82,
     "metadata": {},
     "output_type": "execute_result"
    }
   ],
   "source": [
    "heatmap_data"
   ]
  },
  {
   "cell_type": "code",
   "execution_count": 83,
   "id": "95d9677f",
   "metadata": {},
   "outputs": [
    {
     "data": {
      "image/png": "[encoded data removed]",
      "text/plain": [
       "<Figure size 864x576 with 2 Axes>"
      ]
     },
     "metadata": {},
     "output_type": "display_data"
    }
   ],
   "source": [
    "sns.set(style=\"whitegrid\")\n",
    "\n",
    "plt.figure(figsize=(12, 8))\n",
    "sns.heatmap(heatmap_data, annot=False, cmap=\"viridis\", cbar_kws={'label': 'Unique Users'})\n",
    "plt.title('User Activity Heatmap by Time of Day and Weekday')\n",
    "plt.xlabel('Weekday')\n",
    "plt.ylabel('Time of Day')\n",
    "plt.show()"
   ]
  },
  {
   "cell_type": "markdown",
   "id": "886ad691",
   "metadata": {},
   "source": [
    "# Overall Conclusions \n",
    "* We can see from the table Average Time Spent is **9.49 minutes** for our app. In 2022 statistics Average Time Spent for the fintech apps is 7.43 minutes to 6.06 minutes which means we can keep our clients on our app. But for the outliers, we can choose Median Time Spent (**1.28 minutes**) then it means we need more futures to keep our clients on our app.\n",
    "* Thursday is the most sticky day for us and we have most clients on Thursday, it means if we have some new campaigns or if we are just testing some new futures Thursday would be great for this role. And also with some in-app notifications, we can raise stickiness on Sunday. (For example 'Pay with **m10** on your weekend and earn cashback'). Most people are spending more money on weekends and I'm assuming we are gonna earn more profit from user's purchases.\n",
    "* From 13:00 to 17:00 we have the most users and on Friday from 13:00 to 17:00 we have a great number of unique users we can use for short-time analysis.\n",
    "*  Customers prefer to use purchase functionality via a tablet while they transfer money via mobile.\n",
    "* Most Customers use Android phones rather than IOS. We have to focus on Android for security updates front-end and back-end updates. For the Antifraud events, Android is also a leader. (I would like to insert Feedback Analysis for this but after researching m10 I found that it will not help me.) ***Android 6*** is leading for Antifraud and Feedback events.\n",
    "* Click Transfer is the most used future and we have to make it more user-friendly for users to use it more efficiently.\n",
    "* We have lots of benefits but our most used top 2 benefits are: Bolmart and Grandmart(When I checked m10 now we don't have that benefit right now ) \n",
    "* We have an Average 17 % retention rate and it's good for a fintech app like **m10** but it has to be more than 20 % \n",
    "* On Overview our IOS-based users are more willing to spend ***Cash*** and make ***International Transactions*** than Android Users.\n"
   ]
  },
  {
   "cell_type": "code",
   "execution_count": null,
   "id": "94179637",
   "metadata": {},
   "outputs": [],
   "source": []
  }
 ],
 "metadata": {
  "kernelspec": {
   "display_name": "Python 3 (ipykernel)",
   "language": "python",
   "name": "python3"
  },
  "language_info": {
   "codemirror_mode": {
    "name": "ipython",
    "version": 3
   },
   "file_extension": ".py",
   "mimetype": "text/x-python",
   "name": "python",
   "nbconvert_exporter": "python",
   "pygments_lexer": "ipython3",
   "version": "3.9.7"
  }
 },
 "nbformat": 4,
 "nbformat_minor": 5
}
